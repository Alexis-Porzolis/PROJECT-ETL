{
 "cells": [
  {
   "cell_type": "markdown",
   "metadata": {},
   "source": [
    "<strong>Importación de librerias</strong> "
   ]
  },
  {
   "cell_type": "code",
   "execution_count": 555,
   "metadata": {},
   "outputs": [],
   "source": [
    "import pandas as pd\n",
    "import sqlite3 as sql3"
   ]
  },
  {
   "cell_type": "markdown",
   "metadata": {},
   "source": [
    "<strong>Trasnformamos los csv de usuarios_ecobici-#anios.csv en df para depues tener un buen analisis de datos </strong>"
   ]
  },
  {
   "cell_type": "code",
   "execution_count": 556,
   "metadata": {},
   "outputs": [],
   "source": [
    "userBici15 = pd.read_csv(\"usuarios-ecobici-2015.csv\")\n",
    "userBici16 = pd.read_csv(\"usuarios-ecobici-2016.csv\")\n",
    "userBici17 = pd.read_csv(\"usuarios-ecobici-2017.csv\")\n",
    "userBici18 = pd.read_csv(\"usuarios-ecobici-2018.csv\")\n",
    "userBici19 = pd.read_csv(\"usuarios_ecobici_2019.csv\")\n",
    "userBici20 = pd.read_csv(\"usuarios_ecobici_2020.csv\")\n",
    "userBici21 = pd.read_csv(\"usuarios_ecobici_2021.csv\")\n",
    "userBici22 = pd.read_csv(\"usuarios_ecobici_2022.csv\")\n",
    "userBici23 = pd.read_csv(\"usuarios_ecobici_2023.csv\",low_memory=False) # SE AGREGA EL PARAMETRO LOW_MEMORY PARA EVITAR CONFLICTOS CON DATOS MIXTOS\n",
    "userBici24 = pd.read_csv(\"usuarios_ecobici_2024.csv\")"
   ]
  },
  {
   "cell_type": "markdown",
   "metadata": {},
   "source": [
    "<strong>Revisamos cuantos registros vienen en cada df</strong>"
   ]
  },
  {
   "cell_type": "code",
   "execution_count": 557,
   "metadata": {},
   "outputs": [
    {
     "name": "stdout",
     "output_type": "stream",
     "text": [
      "El archivo 2015 tiene 40397 filas\n",
      "El archivo 2016 tiene 39481 filas\n",
      "El archivo 2017 tiene 58222 filas\n",
      "El archivo 2018 tiene 56182 filas\n",
      "El archivo 2019 tiene 83600 filas\n",
      "El archivo 2020 tiene 107166 filas\n",
      "El archivo 2021 tiene 81577 filas\n",
      "El archivo 2022 tiene 105997 filas\n",
      "El archivo 2023 tiene 136066 filas\n",
      "El archivo 2024 tiene 89504 filas\n"
     ]
    }
   ],
   "source": [
    "print(f\"El archivo 2015 tiene {userBici15.shape[0]} filas\")\n",
    "print(f\"El archivo 2016 tiene {userBici16.shape[0]} filas\")\n",
    "print(f\"El archivo 2017 tiene {userBici17.shape[0]} filas\")\n",
    "print(f\"El archivo 2018 tiene {userBici18.shape[0]} filas\") \n",
    "print(f\"El archivo 2019 tiene {userBici19.shape[0]} filas\")\n",
    "print (f\"El archivo 2020 tiene {userBici20.shape[0]} filas\")\n",
    "print (f\"El archivo 2021 tiene {userBici21.shape[0]} filas\")\n",
    "print (f\"El archivo 2022 tiene {userBici22.shape[0]} filas\")\n",
    "print (f\"El archivo 2023 tiene {userBici23.shape[0]} filas\")\n",
    "print (f\"El archivo 2024 tiene {userBici24.shape[0]} filas\")\n"
   ]
  },
  {
   "cell_type": "markdown",
   "metadata": {},
   "source": [
    "<strong>Reviso el tipo de dato de todas la columnas de los df<strong>"
   ]
  },
  {
   "cell_type": "code",
   "execution_count": 558,
   "metadata": {},
   "outputs": [
    {
     "data": {
      "text/html": [
       "<div>\n",
       "<style scoped>\n",
       "    .dataframe tbody tr th:only-of-type {\n",
       "        vertical-align: middle;\n",
       "    }\n",
       "\n",
       "    .dataframe tbody tr th {\n",
       "        vertical-align: top;\n",
       "    }\n",
       "\n",
       "    .dataframe thead th {\n",
       "        text-align: right;\n",
       "    }\n",
       "</style>\n",
       "<table border=\"1\" class=\"dataframe\">\n",
       "  <thead>\n",
       "    <tr style=\"text-align: right;\">\n",
       "      <th></th>\n",
       "      <th>DataFrame</th>\n",
       "      <th>Columna</th>\n",
       "      <th>Tipo</th>\n",
       "    </tr>\n",
       "  </thead>\n",
       "  <tbody>\n",
       "    <tr>\n",
       "      <th>0</th>\n",
       "      <td>userBici15</td>\n",
       "      <td>id_usuario</td>\n",
       "      <td>int64</td>\n",
       "    </tr>\n",
       "    <tr>\n",
       "      <th>1</th>\n",
       "      <td>userBici15</td>\n",
       "      <td>genero_usuario</td>\n",
       "      <td>object</td>\n",
       "    </tr>\n",
       "    <tr>\n",
       "      <th>2</th>\n",
       "      <td>userBici15</td>\n",
       "      <td>edad_usuario</td>\n",
       "      <td>int64</td>\n",
       "    </tr>\n",
       "    <tr>\n",
       "      <th>3</th>\n",
       "      <td>userBici15</td>\n",
       "      <td>fecha_alta</td>\n",
       "      <td>object</td>\n",
       "    </tr>\n",
       "    <tr>\n",
       "      <th>4</th>\n",
       "      <td>userBici15</td>\n",
       "      <td>hora_alta</td>\n",
       "      <td>object</td>\n",
       "    </tr>\n",
       "    <tr>\n",
       "      <th>5</th>\n",
       "      <td>userBici16</td>\n",
       "      <td>id_usuario</td>\n",
       "      <td>int64</td>\n",
       "    </tr>\n",
       "    <tr>\n",
       "      <th>6</th>\n",
       "      <td>userBici16</td>\n",
       "      <td>genero_usuario</td>\n",
       "      <td>object</td>\n",
       "    </tr>\n",
       "    <tr>\n",
       "      <th>7</th>\n",
       "      <td>userBici16</td>\n",
       "      <td>edad_usuario</td>\n",
       "      <td>int64</td>\n",
       "    </tr>\n",
       "    <tr>\n",
       "      <th>8</th>\n",
       "      <td>userBici16</td>\n",
       "      <td>fecha_alta</td>\n",
       "      <td>object</td>\n",
       "    </tr>\n",
       "    <tr>\n",
       "      <th>9</th>\n",
       "      <td>userBici16</td>\n",
       "      <td>hora_alta</td>\n",
       "      <td>object</td>\n",
       "    </tr>\n",
       "    <tr>\n",
       "      <th>10</th>\n",
       "      <td>userBici17</td>\n",
       "      <td>id_usuario</td>\n",
       "      <td>int64</td>\n",
       "    </tr>\n",
       "    <tr>\n",
       "      <th>11</th>\n",
       "      <td>userBici17</td>\n",
       "      <td>genero_usuario</td>\n",
       "      <td>object</td>\n",
       "    </tr>\n",
       "    <tr>\n",
       "      <th>12</th>\n",
       "      <td>userBici17</td>\n",
       "      <td>edad_usuario</td>\n",
       "      <td>int64</td>\n",
       "    </tr>\n",
       "    <tr>\n",
       "      <th>13</th>\n",
       "      <td>userBici17</td>\n",
       "      <td>fecha_alta</td>\n",
       "      <td>object</td>\n",
       "    </tr>\n",
       "    <tr>\n",
       "      <th>14</th>\n",
       "      <td>userBici17</td>\n",
       "      <td>hora_alta</td>\n",
       "      <td>object</td>\n",
       "    </tr>\n",
       "    <tr>\n",
       "      <th>15</th>\n",
       "      <td>userBici18</td>\n",
       "      <td>id_usuario</td>\n",
       "      <td>int64</td>\n",
       "    </tr>\n",
       "    <tr>\n",
       "      <th>16</th>\n",
       "      <td>userBici18</td>\n",
       "      <td>genero_usuario</td>\n",
       "      <td>object</td>\n",
       "    </tr>\n",
       "    <tr>\n",
       "      <th>17</th>\n",
       "      <td>userBici18</td>\n",
       "      <td>edad_usuario</td>\n",
       "      <td>int64</td>\n",
       "    </tr>\n",
       "    <tr>\n",
       "      <th>18</th>\n",
       "      <td>userBici18</td>\n",
       "      <td>fecha_alta</td>\n",
       "      <td>object</td>\n",
       "    </tr>\n",
       "    <tr>\n",
       "      <th>19</th>\n",
       "      <td>userBici18</td>\n",
       "      <td>hora_alta</td>\n",
       "      <td>object</td>\n",
       "    </tr>\n",
       "    <tr>\n",
       "      <th>20</th>\n",
       "      <td>userBici19</td>\n",
       "      <td>ID_usuario</td>\n",
       "      <td>int64</td>\n",
       "    </tr>\n",
       "    <tr>\n",
       "      <th>21</th>\n",
       "      <td>userBici19</td>\n",
       "      <td>genero_usuario</td>\n",
       "      <td>object</td>\n",
       "    </tr>\n",
       "    <tr>\n",
       "      <th>22</th>\n",
       "      <td>userBici19</td>\n",
       "      <td>edad_usuario</td>\n",
       "      <td>float64</td>\n",
       "    </tr>\n",
       "    <tr>\n",
       "      <th>23</th>\n",
       "      <td>userBici19</td>\n",
       "      <td>fecha_alta</td>\n",
       "      <td>object</td>\n",
       "    </tr>\n",
       "    <tr>\n",
       "      <th>24</th>\n",
       "      <td>userBici19</td>\n",
       "      <td>hora_alta</td>\n",
       "      <td>object</td>\n",
       "    </tr>\n",
       "    <tr>\n",
       "      <th>25</th>\n",
       "      <td>userBici20</td>\n",
       "      <td>ID_usuario</td>\n",
       "      <td>int64</td>\n",
       "    </tr>\n",
       "    <tr>\n",
       "      <th>26</th>\n",
       "      <td>userBici20</td>\n",
       "      <td>genero_usuario</td>\n",
       "      <td>object</td>\n",
       "    </tr>\n",
       "    <tr>\n",
       "      <th>27</th>\n",
       "      <td>userBici20</td>\n",
       "      <td>edad_usuario</td>\n",
       "      <td>float64</td>\n",
       "    </tr>\n",
       "    <tr>\n",
       "      <th>28</th>\n",
       "      <td>userBici20</td>\n",
       "      <td>fecha_alta</td>\n",
       "      <td>object</td>\n",
       "    </tr>\n",
       "    <tr>\n",
       "      <th>29</th>\n",
       "      <td>userBici20</td>\n",
       "      <td>hora_alta</td>\n",
       "      <td>object</td>\n",
       "    </tr>\n",
       "    <tr>\n",
       "      <th>30</th>\n",
       "      <td>userBici20</td>\n",
       "      <td>Customer.Has.Dni..Yes...No.</td>\n",
       "      <td>object</td>\n",
       "    </tr>\n",
       "    <tr>\n",
       "      <th>31</th>\n",
       "      <td>userBici21</td>\n",
       "      <td>ID_usuario</td>\n",
       "      <td>int64</td>\n",
       "    </tr>\n",
       "    <tr>\n",
       "      <th>32</th>\n",
       "      <td>userBici21</td>\n",
       "      <td>genero_usuario</td>\n",
       "      <td>object</td>\n",
       "    </tr>\n",
       "    <tr>\n",
       "      <th>33</th>\n",
       "      <td>userBici21</td>\n",
       "      <td>edad_usuario</td>\n",
       "      <td>object</td>\n",
       "    </tr>\n",
       "    <tr>\n",
       "      <th>34</th>\n",
       "      <td>userBici21</td>\n",
       "      <td>fecha_alta</td>\n",
       "      <td>object</td>\n",
       "    </tr>\n",
       "    <tr>\n",
       "      <th>35</th>\n",
       "      <td>userBici21</td>\n",
       "      <td>hora_alta</td>\n",
       "      <td>object</td>\n",
       "    </tr>\n",
       "    <tr>\n",
       "      <th>36</th>\n",
       "      <td>userBici21</td>\n",
       "      <td>Customer.Has.Dni..Yes...No.</td>\n",
       "      <td>object</td>\n",
       "    </tr>\n",
       "    <tr>\n",
       "      <th>37</th>\n",
       "      <td>userBici22</td>\n",
       "      <td>ID_usuario</td>\n",
       "      <td>int64</td>\n",
       "    </tr>\n",
       "    <tr>\n",
       "      <th>38</th>\n",
       "      <td>userBici22</td>\n",
       "      <td>genero_usuario</td>\n",
       "      <td>object</td>\n",
       "    </tr>\n",
       "    <tr>\n",
       "      <th>39</th>\n",
       "      <td>userBici22</td>\n",
       "      <td>edad_usuario</td>\n",
       "      <td>object</td>\n",
       "    </tr>\n",
       "    <tr>\n",
       "      <th>40</th>\n",
       "      <td>userBici22</td>\n",
       "      <td>fecha_alta</td>\n",
       "      <td>object</td>\n",
       "    </tr>\n",
       "    <tr>\n",
       "      <th>41</th>\n",
       "      <td>userBici22</td>\n",
       "      <td>hora_alta</td>\n",
       "      <td>object</td>\n",
       "    </tr>\n",
       "    <tr>\n",
       "      <th>42</th>\n",
       "      <td>userBici22</td>\n",
       "      <td>Customer.Has.Dni..Yes...No.</td>\n",
       "      <td>object</td>\n",
       "    </tr>\n",
       "    <tr>\n",
       "      <th>43</th>\n",
       "      <td>userBici23</td>\n",
       "      <td>ID_usuario</td>\n",
       "      <td>int64</td>\n",
       "    </tr>\n",
       "    <tr>\n",
       "      <th>44</th>\n",
       "      <td>userBici23</td>\n",
       "      <td>genero_usuario</td>\n",
       "      <td>object</td>\n",
       "    </tr>\n",
       "    <tr>\n",
       "      <th>45</th>\n",
       "      <td>userBici23</td>\n",
       "      <td>edad_usuario</td>\n",
       "      <td>object</td>\n",
       "    </tr>\n",
       "    <tr>\n",
       "      <th>46</th>\n",
       "      <td>userBici23</td>\n",
       "      <td>fecha_alta</td>\n",
       "      <td>object</td>\n",
       "    </tr>\n",
       "    <tr>\n",
       "      <th>47</th>\n",
       "      <td>userBici23</td>\n",
       "      <td>hora_alta</td>\n",
       "      <td>object</td>\n",
       "    </tr>\n",
       "    <tr>\n",
       "      <th>48</th>\n",
       "      <td>userBici23</td>\n",
       "      <td>Customer.Has.Dni..Yes...No.</td>\n",
       "      <td>object</td>\n",
       "    </tr>\n",
       "    <tr>\n",
       "      <th>49</th>\n",
       "      <td>userBici24</td>\n",
       "      <td>ID_usuario</td>\n",
       "      <td>int64</td>\n",
       "    </tr>\n",
       "    <tr>\n",
       "      <th>50</th>\n",
       "      <td>userBici24</td>\n",
       "      <td>genero_usuario</td>\n",
       "      <td>object</td>\n",
       "    </tr>\n",
       "    <tr>\n",
       "      <th>51</th>\n",
       "      <td>userBici24</td>\n",
       "      <td>edad_usuario</td>\n",
       "      <td>object</td>\n",
       "    </tr>\n",
       "    <tr>\n",
       "      <th>52</th>\n",
       "      <td>userBici24</td>\n",
       "      <td>fecha_alta</td>\n",
       "      <td>object</td>\n",
       "    </tr>\n",
       "    <tr>\n",
       "      <th>53</th>\n",
       "      <td>userBici24</td>\n",
       "      <td>hora_alta</td>\n",
       "      <td>object</td>\n",
       "    </tr>\n",
       "    <tr>\n",
       "      <th>54</th>\n",
       "      <td>userBici24</td>\n",
       "      <td>Customer.Has.Dni..Yes...No.</td>\n",
       "      <td>object</td>\n",
       "    </tr>\n",
       "  </tbody>\n",
       "</table>\n",
       "</div>"
      ],
      "text/plain": [
       "     DataFrame                      Columna     Tipo\n",
       "0   userBici15                   id_usuario    int64\n",
       "1   userBici15               genero_usuario   object\n",
       "2   userBici15                 edad_usuario    int64\n",
       "3   userBici15                   fecha_alta   object\n",
       "4   userBici15                    hora_alta   object\n",
       "5   userBici16                   id_usuario    int64\n",
       "6   userBici16               genero_usuario   object\n",
       "7   userBici16                 edad_usuario    int64\n",
       "8   userBici16                   fecha_alta   object\n",
       "9   userBici16                    hora_alta   object\n",
       "10  userBici17                   id_usuario    int64\n",
       "11  userBici17               genero_usuario   object\n",
       "12  userBici17                 edad_usuario    int64\n",
       "13  userBici17                   fecha_alta   object\n",
       "14  userBici17                    hora_alta   object\n",
       "15  userBici18                   id_usuario    int64\n",
       "16  userBici18               genero_usuario   object\n",
       "17  userBici18                 edad_usuario    int64\n",
       "18  userBici18                   fecha_alta   object\n",
       "19  userBici18                    hora_alta   object\n",
       "20  userBici19                   ID_usuario    int64\n",
       "21  userBici19               genero_usuario   object\n",
       "22  userBici19                 edad_usuario  float64\n",
       "23  userBici19                   fecha_alta   object\n",
       "24  userBici19                    hora_alta   object\n",
       "25  userBici20                   ID_usuario    int64\n",
       "26  userBici20               genero_usuario   object\n",
       "27  userBici20                 edad_usuario  float64\n",
       "28  userBici20                   fecha_alta   object\n",
       "29  userBici20                    hora_alta   object\n",
       "30  userBici20  Customer.Has.Dni..Yes...No.   object\n",
       "31  userBici21                   ID_usuario    int64\n",
       "32  userBici21               genero_usuario   object\n",
       "33  userBici21                 edad_usuario   object\n",
       "34  userBici21                   fecha_alta   object\n",
       "35  userBici21                    hora_alta   object\n",
       "36  userBici21  Customer.Has.Dni..Yes...No.   object\n",
       "37  userBici22                   ID_usuario    int64\n",
       "38  userBici22               genero_usuario   object\n",
       "39  userBici22                 edad_usuario   object\n",
       "40  userBici22                   fecha_alta   object\n",
       "41  userBici22                    hora_alta   object\n",
       "42  userBici22  Customer.Has.Dni..Yes...No.   object\n",
       "43  userBici23                   ID_usuario    int64\n",
       "44  userBici23               genero_usuario   object\n",
       "45  userBici23                 edad_usuario   object\n",
       "46  userBici23                   fecha_alta   object\n",
       "47  userBici23                    hora_alta   object\n",
       "48  userBici23  Customer.Has.Dni..Yes...No.   object\n",
       "49  userBici24                   ID_usuario    int64\n",
       "50  userBici24               genero_usuario   object\n",
       "51  userBici24                 edad_usuario   object\n",
       "52  userBici24                   fecha_alta   object\n",
       "53  userBici24                    hora_alta   object\n",
       "54  userBici24  Customer.Has.Dni..Yes...No.   object"
      ]
     },
     "execution_count": 558,
     "metadata": {},
     "output_type": "execute_result"
    }
   ],
   "source": [
    "#Esta función tiene dos input:\n",
    "#1.Es una lista de los df  y revisando uno por uno las columnas ; \n",
    "#2.Deja los nombres de los df\n",
    "# Me retorna un df donde me muestra el tipo de dato de c/columna \n",
    "def leer_formatos_columnas(lista_df, nombres_df):\n",
    "    resultados = []\n",
    "    for nombre, df in zip(nombres_df, lista_df):\n",
    "        for columna, tipo in df.dtypes.items():\n",
    "            resultados.append({'DataFrame': nombre, 'Columna': columna, 'Tipo': tipo})\n",
    "    df_resultados = pd.DataFrame(resultados)\n",
    "    return df_resultados\n",
    "\n",
    "listDfUserBici = [userBici15,userBici16, userBici17, userBici18, userBici19, userBici20, userBici21, userBici22, userBici23, userBici24]\n",
    "listNameUserBici = ['userBici15','userBici16','userBici17','userBici18','userBici19','userBici20', 'userBici21', 'userBici22', 'userBici23', 'userBici24']\n",
    "\n",
    "leer_formatos_columnas(listDfUserBici, listNameUserBici)\n"
   ]
  },
  {
   "cell_type": "markdown",
   "metadata": {},
   "source": [
    "<strong>En userBici19, userBici20, userBici21, userBici22, userBici23, userBici24 en la columna 'edad_usuario' esta en float lo cambiamos a int <strong>"
   ]
  },
  {
   "cell_type": "code",
   "execution_count": 559,
   "metadata": {},
   "outputs": [
    {
     "data": {
      "text/plain": [
       "ID_usuario         int64\n",
       "genero_usuario    object\n",
       "edad_usuario       int64\n",
       "fecha_alta        object\n",
       "hora_alta         object\n",
       "dtype: object"
      ]
     },
     "execution_count": 559,
     "metadata": {},
     "output_type": "execute_result"
    }
   ],
   "source": [
    "#Definimos la función replace_format\n",
    "def replace_format (list_df, column):\n",
    "    for df in list_df:\n",
    "        df[column] = pd.to_numeric(df[column], errors='coerce')\n",
    "        df[column] = df[column].fillna(0).astype('int64')\n",
    "    return \n",
    "edad_usuario = 'edad_usuario'\n",
    "replace_format([userBici19, userBici20, userBici21, userBici22, userBici23, userBici24], edad_usuario)\n",
    "#Verificamos en un df \n",
    "userBici19.dtypes"
   ]
  },
  {
   "cell_type": "markdown",
   "metadata": {},
   "source": [
    "<strong>Revisamos las columna edad_usuario en los df <strong>"
   ]
  },
  {
   "cell_type": "code",
   "execution_count": 560,
   "metadata": {},
   "outputs": [
    {
     "name": "stdout",
     "output_type": "stream",
     "text": [
      "Cantidad de registros filtrados en userBici15: 22\n",
      "Cantidad de registros filtrados en userBici16: 11\n",
      "Cantidad de registros filtrados en userBici17: 120\n",
      "Cantidad de registros filtrados en userBici18: 243\n",
      "Cantidad de registros filtrados en userBici19: 822\n",
      "Cantidad de registros filtrados en userBici20: 85\n",
      "Cantidad de registros filtrados en userBici21: 32\n",
      "Cantidad de registros filtrados en userBici22: 33\n",
      "Cantidad de registros filtrados en userBici23: 95\n",
      "Cantidad de registros filtrados en userBici24: 50\n"
     ]
    }
   ],
   "source": [
    "#Esta funcion hace un filtrado a los df para determinar la 17 < edad > 85\n",
    "def analizar_edad_usuario(df):\n",
    "    df['edad_usuario'] = pd.to_numeric(df['edad_usuario'], errors='coerce')\n",
    "    # Filtrar los registros con edad_usuario menor a 17 o mayor a 85\n",
    "    df_filtrado = df[(df['edad_usuario'] < 17) | (df['edad_usuario'] > 85)]\n",
    "    cantidad_filtrados = df_filtrado.shape[0]    \n",
    "    return cantidad_filtrados\n",
    "\n",
    "# Aplica la funcion y muestra los resultados\n",
    "print(f\"Cantidad de registros filtrados en userBici15: {analizar_edad_usuario(userBici15)}\")\n",
    "print(f\"Cantidad de registros filtrados en userBici16: {analizar_edad_usuario(userBici16)}\")\n",
    "print(f\"Cantidad de registros filtrados en userBici17: {analizar_edad_usuario(userBici17)}\")\n",
    "print(f\"Cantidad de registros filtrados en userBici18: {analizar_edad_usuario(userBici18)}\")\n",
    "print(f\"Cantidad de registros filtrados en userBici19: {analizar_edad_usuario(userBici19)}\")\n",
    "print(f\"Cantidad de registros filtrados en userBici20: {analizar_edad_usuario(userBici20)}\")\n",
    "print(f\"Cantidad de registros filtrados en userBici21: {analizar_edad_usuario(userBici21)}\")\n",
    "print(f\"Cantidad de registros filtrados en userBici22: {analizar_edad_usuario(userBici22)}\")\n",
    "print(f\"Cantidad de registros filtrados en userBici23: {analizar_edad_usuario(userBici23)}\")\n",
    "print(f\"Cantidad de registros filtrados en userBici24: {analizar_edad_usuario(userBici24)}\")"
   ]
  },
  {
   "cell_type": "markdown",
   "metadata": {},
   "source": [
    "<strong>Eliminamos determinados registros de la columna edad_usuario <strong>"
   ]
  },
  {
   "cell_type": "code",
   "execution_count": 561,
   "metadata": {},
   "outputs": [],
   "source": [
    "#Esta función elimina los registros que no cumplen con la condición de edad\n",
    "def eliminar_registros_edad(df_list):\n",
    "    for df in df_list:\n",
    "        df.drop(df[(df['edad_usuario'] < 18) | (df['edad_usuario'] > 85)].index, inplace=True)\n",
    "    return\n",
    "listDfUserBici = [userBici15,userBici16, userBici17, userBici18, userBici19, userBici20, userBici21, userBici22, userBici23, userBici24]\n",
    "eliminar_registros_edad(listDfUserBici)"
   ]
  },
  {
   "cell_type": "code",
   "execution_count": 562,
   "metadata": {},
   "outputs": [
    {
     "data": {
      "text/plain": [
       "array([36, 43, 47, 45, 37, 23, 28, 31, 80, 41, 65, 25, 29, 30, 39, 56, 35,\n",
       "       38, 32, 34, 48, 24, 58, 52, 55, 33, 46, 22, 27, 51, 42, 44, 54, 20,\n",
       "       26, 66, 50, 21, 67, 79, 53, 40, 73, 59, 19, 57, 64, 60, 49, 62, 74,\n",
       "       61, 85, 82, 63, 72, 76, 70, 69, 18, 68, 83, 71, 75, 78, 81, 77, 84],\n",
       "      dtype=int64)"
      ]
     },
     "execution_count": 562,
     "metadata": {},
     "output_type": "execute_result"
    }
   ],
   "source": [
    "userBici19['edad_usuario'].unique()"
   ]
  },
  {
   "cell_type": "markdown",
   "metadata": {},
   "source": [
    "<strong>Definimos si en los registros tiene datos NaN (de manera de ejemplo solo se muestra de userBici15), pero se revisó en todos los df</strong>"
   ]
  },
  {
   "cell_type": "code",
   "execution_count": 563,
   "metadata": {},
   "outputs": [
    {
     "name": "stdout",
     "output_type": "stream",
     "text": [
      "       id_usuario genero_usuario  edad_usuario fecha_alta    hora_alta\n",
      "1954       132123            NaN            32   06-04-15   2:14:40 PM\n",
      "7311       131922            NaN            38   08-04-15   3:08:44 AM\n",
      "7510       147241            NaN            60   10-04-15  12:06:27 PM\n",
      "7511       147254            NaN            60   10-04-15  12:13:48 PM\n",
      "7785       149570            NaN            33   13-04-15   1:54:06 PM\n",
      "...           ...            ...           ...        ...          ...\n",
      "39989      222353            NaN            62   21-12-15  11:32:20 AM\n",
      "39990      222354            NaN            57   21-12-15  11:36:47 AM\n",
      "40315      223630            NaN            21   29-12-15   6:05:42 PM\n",
      "40316      223631            NaN            27   29-12-15   6:08:35 PM\n",
      "40318      223633            NaN            24   29-12-15   6:12:32 PM\n",
      "\n",
      "[130 rows x 5 columns]\n"
     ]
    }
   ],
   "source": [
    "#Esta función lee por cada columna si el registro es NaN \n",
    "def registros_nulos(df):\n",
    "    filas_nulas = df[df.isnull().any(axis=1)]\n",
    "    return filas_nulas\n",
    "df_registros = registros_nulos(userBici15)\n",
    "print(df_registros)"
   ]
  },
  {
   "cell_type": "markdown",
   "metadata": {},
   "source": [
    "<strong>userbici15 se encontró </strong>    <span style='color: #FF6666;'>130 datos NaN</span> <strong> en la columna genero_usuario</strong>\n",
    "<br><strong>userbici19 se encontró </strong><span style='color: #FF6666;'>64 datos NaN</span> <strong> en las columnas genero_usuario y edad_usuario<strong>\n"
   ]
  },
  {
   "cell_type": "markdown",
   "metadata": {},
   "source": [
    "<strong>En este caso utilicé las funciones mediana y moda para agregar datos faltantes al ser poco datos no es necesario un modelo </strong>"
   ]
  },
  {
   "cell_type": "code",
   "execution_count": 564,
   "metadata": {},
   "outputs": [],
   "source": [
    "# Para 'genero_usuario' usamos la moda = al valor más frecuente\n",
    "moda_genero_15 = userBici15['genero_usuario'].mode()[0]\n",
    "moda_genero_19 = userBici19['genero_usuario'].mode()[0]\n",
    "#aplicamos la mediana en los df \n",
    "userBici15['genero_usuario'] = userBici15['genero_usuario'].fillna(moda_genero_15)\n",
    "userBici19['genero_usuario'] = userBici19['genero_usuario'].fillna(moda_genero_19)\n",
    "\n",
    "#Para 'edad_usuario' usar la mediana = el valor medio \n",
    "mediana_edad_19 = userBici19['edad_usuario'].median()\n",
    "#aplicamos la mediana en los df \n",
    "userBici19['edad_usuario'] = userBici19['edad_usuario'].fillna(mediana_edad_19)"
   ]
  },
  {
   "cell_type": "code",
   "execution_count": 567,
   "metadata": {},
   "outputs": [
    {
     "data": {
      "text/plain": [
       "array(['Yes', 'No'], dtype=object)"
      ]
     },
     "execution_count": 567,
     "metadata": {},
     "output_type": "execute_result"
    }
   ],
   "source": [
    "#Reviso lo registros únicos de la columna 'Customer.Has.Dni..Yes...No.' \n",
    "userBici23['Customer.Has.Dni..Yes...No.'].unique()"
   ]
  },
  {
   "cell_type": "markdown",
   "metadata": {},
   "source": [
    "<strong>En userBici20, userBici21, UsuerBici22, userBici23, userBici24 tiene una columna llamada 'Customer.Has.Dni..Yes...No.' que me retorna YES/NO sobre si tiene dni; En mi analisís y por las consginas determidas lo elimino porque me parece irrelevante <strong>"
   ]
  },
  {
   "cell_type": "code",
   "execution_count": 568,
   "metadata": {},
   "outputs": [
    {
     "data": {
      "text/plain": [
       "Index(['ID_usuario', 'genero_usuario', 'edad_usuario', 'fecha_alta',\n",
       "       'hora_alta'],\n",
       "      dtype='object')"
      ]
     },
     "execution_count": 568,
     "metadata": {},
     "output_type": "execute_result"
    }
   ],
   "source": [
    "userBici20 = userBici20.drop(columns=['Customer.Has.Dni..Yes...No.'])\n",
    "userBici21 = userBici21.drop(columns=['Customer.Has.Dni..Yes...No.'])\n",
    "userBici22 = userBici22.drop(columns=['Customer.Has.Dni..Yes...No.'])\n",
    "userBici23 = userBici23.drop(columns=['Customer.Has.Dni..Yes...No.'])\n",
    "userBici24 = userBici24.drop(columns=['Customer.Has.Dni..Yes...No.'])\n",
    "#verificamos en un df \n",
    "userBici24.columns"
   ]
  },
  {
   "cell_type": "markdown",
   "metadata": {},
   "source": [
    "<strong>En los df userbici15, userbici16, userbici17, userbici18 los valores de la columna genero_usuario son:<span style='color: #FF6666;'>['M', 'F','O']</span> </strong>\n",
    "<br><strong>y en los demás están más detallados: <span style='color: #FF6666;'>['OTHER', 'MALE', 'FEMALE']</span>; Dejaré todos del mismo formato<strong>\n"
   ]
  },
  {
   "cell_type": "code",
   "execution_count": 569,
   "metadata": {},
   "outputs": [],
   "source": [
    "#Defino una función para reemplazar los valores de la columna 'genero_usuario'\n",
    "def reemplazar_genero(dataframes):\n",
    "    for df in dataframes:\n",
    "        df['genero_usuario'] = df['genero_usuario'].replace({'M': 'MALE', 'F': 'FEMALE', 'O': 'OTHER'})\n",
    "    return \n",
    "reemplazar_genero([userBici15,userBici16,userBici17,userBici18])"
   ]
  },
  {
   "cell_type": "markdown",
   "metadata": {},
   "source": [
    "<strong>Revisamos los cambios</strong>"
   ]
  },
  {
   "cell_type": "code",
   "execution_count": 570,
   "metadata": {},
   "outputs": [
    {
     "data": {
      "text/plain": [
       "array(['MALE', 'FEMALE'], dtype=object)"
      ]
     },
     "execution_count": 570,
     "metadata": {},
     "output_type": "execute_result"
    }
   ],
   "source": [
    "userBici15['genero_usuario'].unique()"
   ]
  },
  {
   "cell_type": "code",
   "execution_count": 571,
   "metadata": {},
   "outputs": [
    {
     "data": {
      "text/plain": [
       "array(['MALE', 'FEMALE'], dtype=object)"
      ]
     },
     "execution_count": 571,
     "metadata": {},
     "output_type": "execute_result"
    }
   ],
   "source": [
    "userBici16['genero_usuario'].unique()"
   ]
  },
  {
   "cell_type": "code",
   "execution_count": 572,
   "metadata": {},
   "outputs": [
    {
     "data": {
      "text/plain": [
       "array(['MALE', 'FEMALE'], dtype=object)"
      ]
     },
     "execution_count": 572,
     "metadata": {},
     "output_type": "execute_result"
    }
   ],
   "source": [
    "userBici17['genero_usuario'].unique()"
   ]
  },
  {
   "cell_type": "code",
   "execution_count": 573,
   "metadata": {},
   "outputs": [
    {
     "data": {
      "text/plain": [
       "array(['FEMALE', 'MALE', 'OTHER'], dtype=object)"
      ]
     },
     "execution_count": 573,
     "metadata": {},
     "output_type": "execute_result"
    }
   ],
   "source": [
    "userBici18['genero_usuario'].unique()"
   ]
  },
  {
   "cell_type": "markdown",
   "metadata": {},
   "source": [
    "<strong>Le cambiamos el nombre de la columna 'ID_usuario' para que puedan coincidir <strong>"
   ]
  },
  {
   "cell_type": "code",
   "execution_count": 574,
   "metadata": {},
   "outputs": [],
   "source": [
    "def replace_head(df):\n",
    "    df = df.rename(columns = {'ID_usuario' : 'id_usuario'},inplace=True)\n",
    "    return\n",
    "replace_head (userBici19)\n",
    "replace_head (userBici20)\n",
    "replace_head (userBici21)\n",
    "replace_head (userBici22)\n",
    "replace_head (userBici23)\n",
    "replace_head (userBici24)"
   ]
  },
  {
   "cell_type": "code",
   "execution_count": 575,
   "metadata": {},
   "outputs": [
    {
     "data": {
      "text/plain": [
       "0        5:32:55 PM\n",
       "1        5:33:12 PM\n",
       "2        5:35:14 PM\n",
       "3        5:35:43 PM\n",
       "4        5:35:43 PM\n",
       "            ...    \n",
       "40392    5:14:39 PM\n",
       "40393    5:15:25 PM\n",
       "40394    5:17:50 PM\n",
       "40395    5:18:55 PM\n",
       "40396    6:52:35 PM\n",
       "Name: hora_alta, Length: 40360, dtype: object"
      ]
     },
     "execution_count": 575,
     "metadata": {},
     "output_type": "execute_result"
    }
   ],
   "source": [
    "userBici15['hora_alta']"
   ]
  },
  {
   "cell_type": "markdown",
   "metadata": {},
   "source": [
    "<strong> Nos encontramos que la columna hora_alta en los df: userBici15, userBici16, userBici17, userBici18 no coinciden con los registros de de los demas df <strong>\n",
    "<br><strong>Estandarizamos la columna hora_alta para que todos los registros coincidan<strong>"
   ]
  },
  {
   "cell_type": "code",
   "execution_count": 576,
   "metadata": {},
   "outputs": [
    {
     "name": "stdout",
     "output_type": "stream",
     "text": [
      " Userbici15 \n",
      " 0    17:32:55\n",
      "Name: hora_alta, dtype: object\n",
      " Userbici16 \n",
      " 0    03:45:19\n",
      "Name: hora_alta, dtype: object\n",
      " Userbici17 \n",
      " 0    01:32:11\n",
      "Name: hora_alta, dtype: object\n",
      " Userbici18 \n",
      " 0    05:57:40\n",
      "Name: hora_alta, dtype: object\n"
     ]
    }
   ],
   "source": [
    "def estandarizar_hora(hora):\n",
    "    try:\n",
    "        return pd.to_datetime(hora, format='%I:%M:%S %p', errors='coerce').strftime('%H:%M:%S')\n",
    "    except:\n",
    "        try:\n",
    "            return pd.to_datetime(hora, format='%H:%M:%S', errors='coerce').strftime('%H:%M:%S')\n",
    "        except:\n",
    "            return None\n",
    "\n",
    "for df in [userBici15, userBici16, userBici17, userBici18]:\n",
    "    df['hora_alta'] = df['hora_alta'].apply(estandarizar_hora)\n",
    "\n",
    "#Comprobamos que la función haya funcionado correctamente\n",
    "print(f\" Userbici15 \\n {userBici15['hora_alta'].head(1)}\")\n",
    "print(f\" Userbici16 \\n {userBici16['hora_alta'].head(1)}\")\n",
    "print(f\" Userbici17 \\n {userBici17['hora_alta'].head(1)}\")\n",
    "print(f\" Userbici18 \\n {userBici18['hora_alta'].head(1)}\") "
   ]
  },
  {
   "cell_type": "markdown",
   "metadata": {},
   "source": [
    "<strong>Estandarizamos la columna fecha_alta para que todos los registros coincidan <strong>"
   ]
  },
  {
   "cell_type": "code",
   "execution_count": 577,
   "metadata": {},
   "outputs": [
    {
     "name": "stdout",
     "output_type": "stream",
     "text": [
      " Userbici15 \n",
      " 0    2015-02-28\n",
      "Name: fecha_alta, dtype: object\n",
      " Userbici16 \n",
      " 0    2016-01-01\n",
      "Name: fecha_alta, dtype: object\n",
      " Userbici17 \n",
      " 0    2017-01-01\n",
      "Name: fecha_alta, dtype: object\n",
      " Userbici18 \n",
      " 0    2018-10-03\n",
      "Name: fecha_alta, dtype: object\n"
     ]
    }
   ],
   "source": [
    "def unificar_formato_fecha(dataframes):\n",
    "    for df in dataframes:\n",
    "        df['fecha_alta'] = pd.to_datetime(df['fecha_alta'], errors='coerce', format='%d-%m-%y').fillna(\n",
    "            pd.to_datetime(df['fecha_alta'], errors='coerce', format='%Y-%m-%d')\n",
    "        )\n",
    "        df['fecha_alta'] = df['fecha_alta'].dt.strftime('%Y-%m-%d')\n",
    "    return dataframes\n",
    "\n",
    "# Aplicar la función\n",
    "listDfUserBici_f = [userBici15, userBici16, userBici17, userBici18]\n",
    "dataframes = unificar_formato_fecha(listDfUserBici_f)\n",
    "print(f\" Userbici15 \\n {userBici15['fecha_alta'].head(1)}\")\n",
    "print(f\" Userbici16 \\n {userBici16['fecha_alta'].head(1)}\")\n",
    "print(f\" Userbici17 \\n {userBici17['fecha_alta'].head(1)}\")\n",
    "print(f\" Userbici18 \\n {userBici18['fecha_alta'].head(1)}\")"
   ]
  },
  {
   "cell_type": "markdown",
   "metadata": {},
   "source": [
    "<strong>Comparo con el userBici19 <strong>"
   ]
  },
  {
   "cell_type": "code",
   "execution_count": 578,
   "metadata": {},
   "outputs": [
    {
     "name": "stdout",
     "output_type": "stream",
     "text": [
      " Userbici19 \n",
      " 0    2019-12-31\n",
      "Name: fecha_alta, dtype: object\n"
     ]
    }
   ],
   "source": [
    "print(f\" Userbici19 \\n {userBici19['fecha_alta'].head(1)}\")"
   ]
  },
  {
   "cell_type": "markdown",
   "metadata": {},
   "source": [
    "<strong>Verificamos si el nomnbre de las columnas y el tipo de las columnas son iguales<strong>"
   ]
  },
  {
   "cell_type": "code",
   "execution_count": 579,
   "metadata": {},
   "outputs": [
    {
     "name": "stdout",
     "output_type": "stream",
     "text": [
      "Todos los DataFrames coinciden y se pueden unificar.\n"
     ]
    }
   ],
   "source": [
    "#Lista de DataFrames a verificar\n",
    "listDfBici = [userBici15, userBici16, userBici17, userBici18, userBici19, userBici20, userBici21, userBici22, userBici23, userBici24]\n",
    "#LOs ordenamos por id_usuario\n",
    "for df in listDfBici:\n",
    "    df.sort_values(by='id_usuario', ascending=True, inplace=True)\n",
    "# Verifamos si todas las columnas son iguales en todos los DataFrames\n",
    "columnas_iguales = all(df.columns.tolist() == listDfBici[0].columns.tolist() for df in listDfBici)\n",
    "\n",
    "# Verificamos si todos los tipos de datos son iguales en todos los df\n",
    "tipos_datos_iguales = all(df.dtypes.equals(listDfBici[0].dtypes) for df in listDfBici)\n",
    "\n",
    "# Verificamos si todas las columnas y tipos de datos coinciden\n",
    "if columnas_iguales and tipos_datos_iguales:\n",
    "    print(\"Todos los DataFrames coinciden y se pueden unificar.\")\n",
    "else:\n",
    "    print(\"Los DataFrames no coinciden y no se pueden unificar.\")"
   ]
  },
  {
   "cell_type": "code",
   "execution_count": 580,
   "metadata": {},
   "outputs": [
    {
     "name": "stdout",
     "output_type": "stream",
     "text": [
      "Tenemos 795728 registros en userBici\n"
     ]
    }
   ],
   "source": [
    "userBici = pd.concat(listDfBici, ignore_index=True)\n",
    "#Revisamos la cantidad de registros en userBici\n",
    "print(f\"Tenemos {userBici.shape[0]} registros en userBici\")"
   ]
  },
  {
   "cell_type": "markdown",
   "metadata": {},
   "source": [
    "<strong>Verifico si tengo duplicados en base a la columna id_usuario<strong>"
   ]
  },
  {
   "cell_type": "code",
   "execution_count": 581,
   "metadata": {},
   "outputs": [
    {
     "name": "stdout",
     "output_type": "stream",
     "text": [
      "Se encontró 54980 registros duplicados\n"
     ]
    }
   ],
   "source": [
    "duplicados_ecoBici = userBici[userBici.duplicated(subset='id_usuario', keep=False)]\n",
    "if not duplicados_ecoBici.empty:\n",
    "    print(f\"Se encontró {duplicados_ecoBici.shape[0]} registros duplicados\")\n",
    "else:\n",
    "    print(\"No se encontraron registros duplicados en userBici.\")"
   ]
  },
  {
   "cell_type": "markdown",
   "metadata": {},
   "source": [
    "<strong>Realizamos un df_copia solo con los datos duplicados<strong>"
   ]
  },
  {
   "cell_type": "code",
   "execution_count": 582,
   "metadata": {},
   "outputs": [
    {
     "name": "stdout",
     "output_type": "stream",
     "text": [
      "Tenemos 27489 registros en df_userBici_duplicado\n"
     ]
    }
   ],
   "source": [
    "def obtener_duplicado(df):\n",
    "    duplicados = df[df.duplicated(subset='id_usuario', keep='first')]\n",
    "    duplicado = duplicados.drop_duplicates(subset='id_usuario', keep='first')\n",
    "    return duplicado\n",
    "\n",
    "df_userBici_duplicado = obtener_duplicado(userBici)\n",
    "df_userBici_duplicado = df_userBici_duplicado.sort_values(by='id_usuario', ascending=True)\n",
    "print(f\"Tenemos {df_userBici_duplicado.shape[0]} registros en df_userBici_duplicado\")"
   ]
  },
  {
   "cell_type": "code",
   "execution_count": 583,
   "metadata": {},
   "outputs": [
    {
     "name": "stdout",
     "output_type": "stream",
     "text": [
      "El valor más alto en la columna 'id_usuario' es: 1173048\n"
     ]
    }
   ],
   "source": [
    "#Revisamos el valor máximo en la columna 'id_usuario'\n",
    "valor_maximo = userBici['id_usuario'].max()\n",
    "print(f\"El valor más alto en la columna 'id_usuario' es: {valor_maximo}\")"
   ]
  },
  {
   "cell_type": "code",
   "execution_count": 584,
   "metadata": {},
   "outputs": [
    {
     "name": "stdout",
     "output_type": "stream",
     "text": [
      "Tenemos 768237 registros en df_userBici\n"
     ]
    }
   ],
   "source": [
    "usserBici = userBici.drop_duplicates(subset='id_usuario', inplace=True)\n",
    "#Revisamos la cantidad de registros en userBici\n",
    "print(f\"Tenemos {userBici.shape[0]} registros en df_userBici\")"
   ]
  },
  {
   "cell_type": "markdown",
   "metadata": {},
   "source": [
    "<strong>Tenemos <span style='color: #FF6666;'> 768237 </span> datos limpios</strong>"
   ]
  },
  {
   "cell_type": "code",
   "execution_count": 585,
   "metadata": {},
   "outputs": [
    {
     "name": "stdout",
     "output_type": "stream",
     "text": [
      "El id_usuario más alto en userBici es: 1173048\n"
     ]
    }
   ],
   "source": [
    "print(f\"El id_usuario más alto en userBici es: {userBici['id_usuario'].max()}\")"
   ]
  },
  {
   "cell_type": "markdown",
   "metadata": {},
   "source": [
    "<strong>Para no perder esos datos duplicados, en base al máximo id_usuario vamos a asignarle nuevos valores a partir de 1200000 para poder identificarlos </strong>"
   ]
  },
  {
   "cell_type": "code",
   "execution_count": 586,
   "metadata": {},
   "outputs": [
    {
     "data": {
      "text/plain": [
       "319434    1227479\n",
       "319438    1227480\n",
       "319532    1227481\n",
       "319537    1227482\n",
       "319539    1227483\n",
       "319902    1227484\n",
       "319906    1227485\n",
       "319917    1227486\n",
       "319922    1227487\n",
       "319957    1227488\n",
       "Name: id_usuario, dtype: int64"
      ]
     },
     "execution_count": 586,
     "metadata": {},
     "output_type": "execute_result"
    }
   ],
   "source": [
    "id_inicial = 1200000\n",
    "df_userBici_duplicado['id_usuario'] = range(id_inicial, id_inicial + len(df_userBici_duplicado))\n",
    "\n",
    "# Verificamos si se actualizaron los ids\n",
    "df_userBici_duplicado['id_usuario'].tail(10)"
   ]
  },
  {
   "cell_type": "markdown",
   "metadata": {},
   "source": [
    "<strong>Lo concatenamos con el df main</strong>"
   ]
  },
  {
   "cell_type": "code",
   "execution_count": 588,
   "metadata": {},
   "outputs": [],
   "source": [
    "userBici = pd.concat([userBici, df_userBici_duplicado], ignore_index=False)\n",
    "userBici = userBici.sort_values(by='id_usuario', ascending=True)"
   ]
  },
  {
   "cell_type": "code",
   "execution_count": 589,
   "metadata": {},
   "outputs": [
    {
     "name": "stdout",
     "output_type": "stream",
     "text": [
      "int64\n",
      "El valor más alto en la columna 'id_usuario' es: 1227488\n"
     ]
    }
   ],
   "source": [
    "print(userBici['id_usuario'].dtype)\n",
    "print(f\"El valor más alto en la columna 'id_usuario' es: {userBici['id_usuario'].max()}\")"
   ]
  },
  {
   "cell_type": "markdown",
   "metadata": {},
   "source": [
    "<strong>Lo migramos a la base stg<strong>"
   ]
  },
  {
   "cell_type": "code",
   "execution_count": 590,
   "metadata": {},
   "outputs": [],
   "source": [
    "conexion = sql3.connect('DataIQ_STG.db', timeout=10)\n",
    "\n",
    "try:\n",
    "    userBici.to_sql('usuarios_ecobici', conexion, if_exists='replace', index=False)\n",
    "    conexion.commit()\n",
    "\n",
    "except sql3.DatabaseError as e:\n",
    "    print(f\"Error en la base de datos: {e}\")\n",
    "\n",
    "finally:\n",
    "    conexion.close()"
   ]
  },
  {
   "cell_type": "markdown",
   "metadata": {},
   "source": [
    "<strong>Continuamos con el analisis de trips<strong>"
   ]
  },
  {
   "cell_type": "code",
   "execution_count": 135,
   "metadata": {},
   "outputs": [],
   "source": [
    "trips24 = pd.read_csv(\"trips_2024.csv\")\n",
    "trips23 = pd.read_csv(\"trips_2023.csv\")"
   ]
  },
  {
   "cell_type": "markdown",
   "metadata": {},
   "source": [
    "<strong>Revisamos cuantos registros vienen en cada df</strong>"
   ]
  },
  {
   "cell_type": "code",
   "execution_count": 591,
   "metadata": {},
   "outputs": [
    {
     "name": "stdout",
     "output_type": "stream",
     "text": [
      "El archivo 2023 tiene 2622331 registos\n",
      "El archivo 2024 tiene 1528727 registros\n"
     ]
    }
   ],
   "source": [
    "print(f\"El archivo 2023 tiene {trips23.shape[0]} registos\")\n",
    "print(f\"El archivo 2024 tiene {trips24.shape[0]} registros\")"
   ]
  },
  {
   "cell_type": "markdown",
   "metadata": {},
   "source": [
    "<strong>Reviso el tipo de dato de todas la columnas de los df<strong>"
   ]
  },
  {
   "cell_type": "code",
   "execution_count": 592,
   "metadata": {},
   "outputs": [
    {
     "name": "stdout",
     "output_type": "stream",
     "text": [
      "Trips 2023: \n",
      "Id_recorrido                   object\n",
      "duracion_recorrido             object\n",
      "fecha_origen_recorrido         object\n",
      "id_estacion_origen             object\n",
      "nombre_estacion_origen         object\n",
      "direccion_estacion_origen      object\n",
      "long_estacion_origen          float64\n",
      "lat_estacion_origen           float64\n",
      "fecha_destino_recorrido        object\n",
      "id_estacion_destino            object\n",
      "nombre_estacion_destino        object\n",
      "direccion_estacion_destino     object\n",
      "long_estacion_destino         float64\n",
      "lat_estacion_destino          float64\n",
      "id_usuario                     object\n",
      "modelo_bicicleta               object\n",
      "género                         object\n",
      "dtype: object\n",
      "-------------------\n",
      "Trips 2024: \n",
      "Id_recorrido                   object\n",
      "duracion_recorrido             object\n",
      "fecha_origen_recorrido         object\n",
      "id_estacion_origen             object\n",
      "nombre_estacion_origen         object\n",
      "direccion_estacion_origen      object\n",
      "long_estacion_origen          float64\n",
      "lat_estacion_origen           float64\n",
      "fecha_destino_recorrido        object\n",
      "id_estacion_destino            object\n",
      "nombre_estacion_destino        object\n",
      "direccion_estacion_destino     object\n",
      "long_estacion_destino         float64\n",
      "lat_estacion_destino          float64\n",
      "id_usuario                     object\n",
      "modelo_bicicleta               object\n",
      "género                         object\n",
      "dtype: object\n"
     ]
    }
   ],
   "source": [
    "print(f\"Trips 2023: \\n{trips23.dtypes}\")\n",
    "print(\"-------------------\")\n",
    "print(f\"Trips 2024: \\n{trips24.dtypes}\")"
   ]
  },
  {
   "cell_type": "markdown",
   "metadata": {},
   "source": [
    "<strong>Definimos si en los registros tiene datos NaN (de manera de ejemplo solo se muestra de trips23), pero se revisó en los dos df</strong>"
   ]
  },
  {
   "cell_type": "code",
   "execution_count": 597,
   "metadata": {},
   "outputs": [
    {
     "name": "stdout",
     "output_type": "stream",
     "text": [
      "              Id_recorrido duracion_recorrido fecha_origen_recorrido  \\\n",
      "114      18700657BAEcobici                964    2023-08-02 08:10:36   \n",
      "190      18061078BAEcobici                552    2023-05-10 13:38:53   \n",
      "229      17194819BAEcobici                261    2023-02-09 17:36:30   \n",
      "727      16874429BAEcobici              3,542    2023-01-09 18:31:53   \n",
      "1116     16973753BAEcobici                863    2023-01-19 09:01:24   \n",
      "...                    ...                ...                    ...   \n",
      "2621218  20050747BAEcobici              1,304    2023-12-16 16:12:52   \n",
      "2621219  20050003BAEcobici              2,412    2023-12-16 13:19:49   \n",
      "2621220  20049171BAEcobici                452    2023-12-16 10:14:50   \n",
      "2621379  20154013BAEcobici                768    2023-12-28 13:45:51   \n",
      "2621398  20158544BAEcobici                663    2023-12-28 19:40:09   \n",
      "\n",
      "        id_estacion_origen            nombre_estacion_origen  \\\n",
      "114           220BAEcobici                097 - Avelino Diaz   \n",
      "190            14BAEcobici                    014 - Pacifico   \n",
      "229            35BAEcobici             035 - INGENIERO BUTTY   \n",
      "727           222BAEcobici     160 - Godoy Cruz y Libertador   \n",
      "1116          208BAEcobici                   145 - RAVIGNANI   \n",
      "...                    ...                               ...   \n",
      "2621218       449BAEcobici          352 - San Jose de Flores   \n",
      "2621219       471BAEcobici               173 - EL LIBERTADOR   \n",
      "2621220       385BAEcobici  268 - Plaza Aristóbulo Del Valle   \n",
      "2621379       241BAEcobici            348 - Villa del Parque   \n",
      "2621398       498BAEcobici                      055 - HABANA   \n",
      "\n",
      "                           direccion_estacion_origen  long_estacion_origen  \\\n",
      "114                              Avelino Diaz&Doblas            -58.427573   \n",
      "190                Santa Fe Av. & Bullrich, Int. Av.            -58.426387   \n",
      "229                                Ing. E. Butty 291            -58.371847   \n",
      "727                                 Av. Cerviño 4501            -58.421268   \n",
      "1116                           EMILIO RAVIGNANI 1802            -58.438404   \n",
      "...                                              ...                   ...   \n",
      "2621218                           Av. Rivadavia 6955            -58.463297   \n",
      "2621219                          Av. San Martín 6220            -58.503309   \n",
      "2621220                      Campana & Marcos Sastre            -58.493141   \n",
      "2621379                      Gutierrez, Ricardo 3105            -58.494123   \n",
      "2621398  Gral. José Gervasio Artigas 4298 (y Habana)            -58.494959   \n",
      "\n",
      "         lat_estacion_origen fecha_destino_recorrido id_estacion_destino  \\\n",
      "114               -34.635128     2023-08-02 08:26:40        227BAEcobici   \n",
      "190               -34.577424     2023-05-10 13:48:05        239BAEcobici   \n",
      "229               -34.596425     2023-02-09 17:40:51          4BAEcobici   \n",
      "727               -34.575880     2023-01-09 19:30:55        222BAEcobici   \n",
      "1116              -34.580716     2023-01-19 09:15:47        215BAEcobici   \n",
      "...                      ...                     ...                 ...   \n",
      "2621218           -34.628836     2023-12-16 16:34:36        385BAEcobici   \n",
      "2621219           -34.594729     2023-12-16 14:00:01        449BAEcobici   \n",
      "2621220           -34.606160     2023-12-16 10:22:22        471BAEcobici   \n",
      "2621379           -34.600874     2023-12-28 13:58:39        498BAEcobici   \n",
      "2621398           -34.586598     2023-12-28 19:51:12        241BAEcobici   \n",
      "\n",
      "                  nombre_estacion_destino  \\\n",
      "114                       188 - Aranguren   \n",
      "190      391 - Plaza República de Ecuador   \n",
      "229                      004 - Plaza Roma   \n",
      "727         160 - Godoy Cruz y Libertador   \n",
      "1116                      113 - Guatemala   \n",
      "...                                   ...   \n",
      "2621218  268 - Plaza Aristóbulo Del Valle   \n",
      "2621219          352 - San Jose de Flores   \n",
      "2621220               173 - EL LIBERTADOR   \n",
      "2621379                      055 - HABANA   \n",
      "2621398            348 - Villa del Parque   \n",
      "\n",
      "                          direccion_estacion_destino  long_estacion_destino  \\\n",
      "114                    Dr. Juan Felipe Aranguren 131             -58.432763   \n",
      "190                  Av. Pres. Figueroa Alcorta 5201             -58.420621   \n",
      "229                               Av. Corrientes 100             -58.368856   \n",
      "727                                 Av. Cerviño 4501             -58.421268   \n",
      "1116                                  Guatemala 4773             -58.424996   \n",
      "...                                              ...                    ...   \n",
      "2621218                      Campana & Marcos Sastre             -58.493141   \n",
      "2621219                           Av. Rivadavia 6955             -58.463297   \n",
      "2621220                          Av. San Martín 6220             -58.503309   \n",
      "2621379  Gral. José Gervasio Artigas 4298 (y Habana)             -58.494959   \n",
      "2621398                      Gutierrez, Ricardo 3105             -58.494123   \n",
      "\n",
      "         lat_estacion_destino      id_usuario modelo_bicicleta género  \n",
      "114                -34.610361  19385BAEcobici           ICONIC    NaN  \n",
      "190                -34.565337  20158BAEcobici           ICONIC    NaN  \n",
      "229                -34.603008  24965BAEcobici           ICONIC    NaN  \n",
      "727                -34.575880  23405BAEcobici           ICONIC    NaN  \n",
      "1116               -34.585878  22850BAEcobici           ICONIC    NaN  \n",
      "...                       ...             ...              ...    ...  \n",
      "2621218            -34.606160  20574BAEcobici              FIT    NaN  \n",
      "2621219            -34.628836  20574BAEcobici              FIT    NaN  \n",
      "2621220            -34.594729  20574BAEcobici              FIT    NaN  \n",
      "2621379            -34.586598  20574BAEcobici              FIT    NaN  \n",
      "2621398            -34.600874  20574BAEcobici              FIT    NaN  \n",
      "\n",
      "[11968 rows x 17 columns]\n"
     ]
    }
   ],
   "source": [
    "#Llamamos a la funcion registros_nulos anteriormente definida\n",
    "df_registros = registros_nulos(trips23)\n",
    "print(df_registros)"
   ]
  },
  {
   "cell_type": "markdown",
   "metadata": {},
   "source": [
    "<strong>trips23 se encontró </strong>    <span style='color: #FF6666;'>11968 datos NaN</span> <strong> en la columna género</strong>\n",
    "<br><strong>trips24 se encontró </strong><span style='color: #FF6666;'>5465 datos NaN</span> <strong> en las columnas género <strong>"
   ]
  },
  {
   "cell_type": "markdown",
   "metadata": {},
   "source": [
    "<strong>En este caso utilicé las funciones moda para agregar datos faltantes </strong>"
   ]
  },
  {
   "cell_type": "code",
   "execution_count": 599,
   "metadata": {},
   "outputs": [],
   "source": [
    "# Para la columna 'género' usamos la moda = al valor más frecuente\n",
    "moda_genero_23 = trips23['género'].mode()[0]\n",
    "moda_genero_24 = trips24['género'].mode()[0]\n",
    "#aplicamos la mediana en los df \n",
    "trips23['género'] = trips23['género'].fillna(moda_genero_23)\n",
    "trips24['género'] = trips24['género'].fillna(moda_genero_24)"
   ]
  },
  {
   "cell_type": "markdown",
   "metadata": {},
   "source": [
    "<strong>Verficamos si tienen registros iguales<strong>"
   ]
  },
  {
   "cell_type": "code",
   "execution_count": 600,
   "metadata": {},
   "outputs": [
    {
     "data": {
      "text/plain": [
       "False"
      ]
     },
     "execution_count": 600,
     "metadata": {},
     "output_type": "execute_result"
    }
   ],
   "source": [
    "trips23.equals(trips24)"
   ]
  },
  {
   "cell_type": "markdown",
   "metadata": {},
   "source": [
    "<strong>Procedemos a concatenarlo</strong>"
   ]
  },
  {
   "cell_type": "code",
   "execution_count": 601,
   "metadata": {},
   "outputs": [
    {
     "data": {
      "text/html": [
       "<div>\n",
       "<style scoped>\n",
       "    .dataframe tbody tr th:only-of-type {\n",
       "        vertical-align: middle;\n",
       "    }\n",
       "\n",
       "    .dataframe tbody tr th {\n",
       "        vertical-align: top;\n",
       "    }\n",
       "\n",
       "    .dataframe thead th {\n",
       "        text-align: right;\n",
       "    }\n",
       "</style>\n",
       "<table border=\"1\" class=\"dataframe\">\n",
       "  <thead>\n",
       "    <tr style=\"text-align: right;\">\n",
       "      <th></th>\n",
       "      <th>Id_recorrido</th>\n",
       "      <th>duracion_recorrido</th>\n",
       "      <th>fecha_origen_recorrido</th>\n",
       "      <th>id_estacion_origen</th>\n",
       "      <th>nombre_estacion_origen</th>\n",
       "      <th>direccion_estacion_origen</th>\n",
       "      <th>long_estacion_origen</th>\n",
       "      <th>lat_estacion_origen</th>\n",
       "      <th>fecha_destino_recorrido</th>\n",
       "      <th>id_estacion_destino</th>\n",
       "      <th>nombre_estacion_destino</th>\n",
       "      <th>direccion_estacion_destino</th>\n",
       "      <th>long_estacion_destino</th>\n",
       "      <th>lat_estacion_destino</th>\n",
       "      <th>id_usuario</th>\n",
       "      <th>modelo_bicicleta</th>\n",
       "      <th>género</th>\n",
       "    </tr>\n",
       "  </thead>\n",
       "  <tbody>\n",
       "    <tr>\n",
       "      <th>1569107</th>\n",
       "      <td>16798820BAEcobici</td>\n",
       "      <td>392</td>\n",
       "      <td>2023-01-01 00:06:08</td>\n",
       "      <td>449BAEcobici</td>\n",
       "      <td>352 - San Jose de Flores</td>\n",
       "      <td>Av. Rivadavia 6955</td>\n",
       "      <td>-58.463297</td>\n",
       "      <td>-34.628836</td>\n",
       "      <td>2023-01-01 00:12:40</td>\n",
       "      <td>449BAEcobici</td>\n",
       "      <td>352 - San Jose de Flores</td>\n",
       "      <td>Av. Rivadavia 6955</td>\n",
       "      <td>-58.463297</td>\n",
       "      <td>-34.628836</td>\n",
       "      <td>703716BAEcobici</td>\n",
       "      <td>FIT</td>\n",
       "      <td>MALE</td>\n",
       "    </tr>\n",
       "    <tr>\n",
       "      <th>1678989</th>\n",
       "      <td>16798822BAEcobici</td>\n",
       "      <td>250</td>\n",
       "      <td>2023-01-01 00:08:12</td>\n",
       "      <td>449BAEcobici</td>\n",
       "      <td>352 - San Jose de Flores</td>\n",
       "      <td>Av. Rivadavia 6955</td>\n",
       "      <td>-58.463297</td>\n",
       "      <td>-34.628836</td>\n",
       "      <td>2023-01-01 00:12:22</td>\n",
       "      <td>449BAEcobici</td>\n",
       "      <td>352 - San Jose de Flores</td>\n",
       "      <td>Av. Rivadavia 6955</td>\n",
       "      <td>-58.463297</td>\n",
       "      <td>-34.628836</td>\n",
       "      <td>695884BAEcobici</td>\n",
       "      <td>FIT</td>\n",
       "      <td>MALE</td>\n",
       "    </tr>\n",
       "    <tr>\n",
       "      <th>1633091</th>\n",
       "      <td>16798823BAEcobici</td>\n",
       "      <td>1,059</td>\n",
       "      <td>2023-01-01 00:10:52</td>\n",
       "      <td>363BAEcobici</td>\n",
       "      <td>354 - José Martí</td>\n",
       "      <td>Eva Perón 3321</td>\n",
       "      <td>-58.463114</td>\n",
       "      <td>-34.643900</td>\n",
       "      <td>2023-01-01 00:28:31</td>\n",
       "      <td>363BAEcobici</td>\n",
       "      <td>354 - José Martí</td>\n",
       "      <td>Eva Perón 3321</td>\n",
       "      <td>-58.463114</td>\n",
       "      <td>-34.643900</td>\n",
       "      <td>671615BAEcobici</td>\n",
       "      <td>FIT</td>\n",
       "      <td>MALE</td>\n",
       "    </tr>\n",
       "    <tr>\n",
       "      <th>782258</th>\n",
       "      <td>16798824BAEcobici</td>\n",
       "      <td>1,834</td>\n",
       "      <td>2023-01-01 00:11:14</td>\n",
       "      <td>461BAEcobici</td>\n",
       "      <td>106 - MOSCONI Y CONSTITUYENTES</td>\n",
       "      <td>CONSTITUYENTES 4710</td>\n",
       "      <td>-58.493630</td>\n",
       "      <td>-34.580880</td>\n",
       "      <td>2023-01-01 00:41:48</td>\n",
       "      <td>418BAEcobici</td>\n",
       "      <td>345 - Plaza Mafalda</td>\n",
       "      <td>Conde &amp; Concepción Arenal</td>\n",
       "      <td>-58.444580</td>\n",
       "      <td>-34.580938</td>\n",
       "      <td>939857BAEcobici</td>\n",
       "      <td>FIT</td>\n",
       "      <td>MALE</td>\n",
       "    </tr>\n",
       "    <tr>\n",
       "      <th>547929</th>\n",
       "      <td>16798825BAEcobici</td>\n",
       "      <td>766</td>\n",
       "      <td>2023-01-01 00:11:24</td>\n",
       "      <td>124BAEcobici</td>\n",
       "      <td>124 - UGARTECHE</td>\n",
       "      <td>3050 Ugarteche</td>\n",
       "      <td>-58.411965</td>\n",
       "      <td>-34.580538</td>\n",
       "      <td>2023-01-01 00:24:10</td>\n",
       "      <td>131BAEcobici</td>\n",
       "      <td>131- HOSPITAL DE CLÍNICAS</td>\n",
       "      <td>Uriburu Jose E., Pres. &amp; Paraguay</td>\n",
       "      <td>-58.399016</td>\n",
       "      <td>-34.598404</td>\n",
       "      <td>721955BAEcobici</td>\n",
       "      <td>ICONIC</td>\n",
       "      <td>MALE</td>\n",
       "    </tr>\n",
       "    <tr>\n",
       "      <th>185695</th>\n",
       "      <td>16798826BAEcobici</td>\n",
       "      <td>623</td>\n",
       "      <td>2023-01-01 00:13:14</td>\n",
       "      <td>307BAEcobici</td>\n",
       "      <td>341 - COMUNA 4</td>\n",
       "      <td>AV PERITO MORENO 2881</td>\n",
       "      <td>-58.424773</td>\n",
       "      <td>-34.649997</td>\n",
       "      <td>2023-01-01 00:23:37</td>\n",
       "      <td>41BAEcobici</td>\n",
       "      <td>041 - PARQUE PATRICIOS II</td>\n",
       "      <td>Av Caseros 3015</td>\n",
       "      <td>-58.405888</td>\n",
       "      <td>-34.637123</td>\n",
       "      <td>167151BAEcobici</td>\n",
       "      <td>ICONIC</td>\n",
       "      <td>OTHER</td>\n",
       "    </tr>\n",
       "    <tr>\n",
       "      <th>1545854</th>\n",
       "      <td>16798827BAEcobici</td>\n",
       "      <td>1,070</td>\n",
       "      <td>2023-01-01 00:15:09</td>\n",
       "      <td>184BAEcobici</td>\n",
       "      <td>184 - Pedro Echague</td>\n",
       "      <td>Pedro Echague 1878 &amp; Combate De Los Pozos</td>\n",
       "      <td>-58.391342</td>\n",
       "      <td>-34.630613</td>\n",
       "      <td>2023-01-01 00:32:59</td>\n",
       "      <td>3BAEcobici</td>\n",
       "      <td>003 - ADUANA</td>\n",
       "      <td>Moreno &amp; Azopardo</td>\n",
       "      <td>-58.368174</td>\n",
       "      <td>-34.611102</td>\n",
       "      <td>113138BAEcobici</td>\n",
       "      <td>FIT</td>\n",
       "      <td>MALE</td>\n",
       "    </tr>\n",
       "    <tr>\n",
       "      <th>42259</th>\n",
       "      <td>16798828BAEcobici</td>\n",
       "      <td>1,194</td>\n",
       "      <td>2023-01-01 00:15:43</td>\n",
       "      <td>13BAEcobici</td>\n",
       "      <td>013 - ONCE</td>\n",
       "      <td>Av. Pueyrredon &amp; Av. Rivadavia</td>\n",
       "      <td>-58.406000</td>\n",
       "      <td>-34.610090</td>\n",
       "      <td>2023-01-01 00:35:37</td>\n",
       "      <td>122BAEcobici</td>\n",
       "      <td>122 - COSTA RICA</td>\n",
       "      <td>COSTA RICA 4060</td>\n",
       "      <td>-58.419816</td>\n",
       "      <td>-34.591561</td>\n",
       "      <td>939368BAEcobici</td>\n",
       "      <td>ICONIC</td>\n",
       "      <td>MALE</td>\n",
       "    </tr>\n",
       "    <tr>\n",
       "      <th>1025713</th>\n",
       "      <td>16798829BAEcobici</td>\n",
       "      <td>3,142</td>\n",
       "      <td>2023-01-01 00:15:57</td>\n",
       "      <td>152BAEcobici</td>\n",
       "      <td>152 - JULIETA LANTERI</td>\n",
       "      <td>Vera Peñaloza, Rosario 599 &amp; Lanteri Julieta</td>\n",
       "      <td>-58.359631</td>\n",
       "      <td>-34.618164</td>\n",
       "      <td>2023-01-01 01:08:19</td>\n",
       "      <td>25BAEcobici</td>\n",
       "      <td>025 - Plaza Guemes</td>\n",
       "      <td>Salguero, Jeronimo &amp; Mansilla, Lucio Norberto,...</td>\n",
       "      <td>-58.416118</td>\n",
       "      <td>-34.589427</td>\n",
       "      <td>667954BAEcobici</td>\n",
       "      <td>FIT</td>\n",
       "      <td>OTHER</td>\n",
       "    </tr>\n",
       "    <tr>\n",
       "      <th>136062</th>\n",
       "      <td>16798830BAEcobici</td>\n",
       "      <td>3,016</td>\n",
       "      <td>2023-01-01 00:16:45</td>\n",
       "      <td>152BAEcobici</td>\n",
       "      <td>152 - JULIETA LANTERI</td>\n",
       "      <td>Vera Peñaloza, Rosario 599 &amp; Lanteri Julieta</td>\n",
       "      <td>-58.359631</td>\n",
       "      <td>-34.618164</td>\n",
       "      <td>2023-01-01 01:07:01</td>\n",
       "      <td>25BAEcobici</td>\n",
       "      <td>025 - Plaza Guemes</td>\n",
       "      <td>Salguero, Jeronimo &amp; Mansilla, Lucio Norberto,...</td>\n",
       "      <td>-58.416118</td>\n",
       "      <td>-34.589427</td>\n",
       "      <td>669799BAEcobici</td>\n",
       "      <td>ICONIC</td>\n",
       "      <td>OTHER</td>\n",
       "    </tr>\n",
       "  </tbody>\n",
       "</table>\n",
       "</div>"
      ],
      "text/plain": [
       "              Id_recorrido duracion_recorrido fecha_origen_recorrido  \\\n",
       "1569107  16798820BAEcobici                392    2023-01-01 00:06:08   \n",
       "1678989  16798822BAEcobici                250    2023-01-01 00:08:12   \n",
       "1633091  16798823BAEcobici              1,059    2023-01-01 00:10:52   \n",
       "782258   16798824BAEcobici              1,834    2023-01-01 00:11:14   \n",
       "547929   16798825BAEcobici                766    2023-01-01 00:11:24   \n",
       "185695   16798826BAEcobici                623    2023-01-01 00:13:14   \n",
       "1545854  16798827BAEcobici              1,070    2023-01-01 00:15:09   \n",
       "42259    16798828BAEcobici              1,194    2023-01-01 00:15:43   \n",
       "1025713  16798829BAEcobici              3,142    2023-01-01 00:15:57   \n",
       "136062   16798830BAEcobici              3,016    2023-01-01 00:16:45   \n",
       "\n",
       "        id_estacion_origen          nombre_estacion_origen  \\\n",
       "1569107       449BAEcobici        352 - San Jose de Flores   \n",
       "1678989       449BAEcobici        352 - San Jose de Flores   \n",
       "1633091       363BAEcobici                354 - José Martí   \n",
       "782258        461BAEcobici  106 - MOSCONI Y CONSTITUYENTES   \n",
       "547929        124BAEcobici                 124 - UGARTECHE   \n",
       "185695        307BAEcobici                  341 - COMUNA 4   \n",
       "1545854       184BAEcobici             184 - Pedro Echague   \n",
       "42259          13BAEcobici                      013 - ONCE   \n",
       "1025713       152BAEcobici           152 - JULIETA LANTERI   \n",
       "136062        152BAEcobici           152 - JULIETA LANTERI   \n",
       "\n",
       "                            direccion_estacion_origen  long_estacion_origen  \\\n",
       "1569107                            Av. Rivadavia 6955            -58.463297   \n",
       "1678989                            Av. Rivadavia 6955            -58.463297   \n",
       "1633091                                Eva Perón 3321            -58.463114   \n",
       "782258                            CONSTITUYENTES 4710            -58.493630   \n",
       "547929                                 3050 Ugarteche            -58.411965   \n",
       "185695                          AV PERITO MORENO 2881            -58.424773   \n",
       "1545854     Pedro Echague 1878 & Combate De Los Pozos            -58.391342   \n",
       "42259                  Av. Pueyrredon & Av. Rivadavia            -58.406000   \n",
       "1025713  Vera Peñaloza, Rosario 599 & Lanteri Julieta            -58.359631   \n",
       "136062   Vera Peñaloza, Rosario 599 & Lanteri Julieta            -58.359631   \n",
       "\n",
       "         lat_estacion_origen fecha_destino_recorrido id_estacion_destino  \\\n",
       "1569107           -34.628836     2023-01-01 00:12:40        449BAEcobici   \n",
       "1678989           -34.628836     2023-01-01 00:12:22        449BAEcobici   \n",
       "1633091           -34.643900     2023-01-01 00:28:31        363BAEcobici   \n",
       "782258            -34.580880     2023-01-01 00:41:48        418BAEcobici   \n",
       "547929            -34.580538     2023-01-01 00:24:10        131BAEcobici   \n",
       "185695            -34.649997     2023-01-01 00:23:37         41BAEcobici   \n",
       "1545854           -34.630613     2023-01-01 00:32:59          3BAEcobici   \n",
       "42259             -34.610090     2023-01-01 00:35:37        122BAEcobici   \n",
       "1025713           -34.618164     2023-01-01 01:08:19         25BAEcobici   \n",
       "136062            -34.618164     2023-01-01 01:07:01         25BAEcobici   \n",
       "\n",
       "           nombre_estacion_destino  \\\n",
       "1569107   352 - San Jose de Flores   \n",
       "1678989   352 - San Jose de Flores   \n",
       "1633091           354 - José Martí   \n",
       "782258         345 - Plaza Mafalda   \n",
       "547929   131- HOSPITAL DE CLÍNICAS   \n",
       "185695   041 - PARQUE PATRICIOS II   \n",
       "1545854               003 - ADUANA   \n",
       "42259             122 - COSTA RICA   \n",
       "1025713         025 - Plaza Guemes   \n",
       "136062          025 - Plaza Guemes   \n",
       "\n",
       "                                direccion_estacion_destino  \\\n",
       "1569107                                 Av. Rivadavia 6955   \n",
       "1678989                                 Av. Rivadavia 6955   \n",
       "1633091                                     Eva Perón 3321   \n",
       "782258                           Conde & Concepción Arenal   \n",
       "547929                   Uriburu Jose E., Pres. & Paraguay   \n",
       "185695                                     Av Caseros 3015   \n",
       "1545854                                  Moreno & Azopardo   \n",
       "42259                                      COSTA RICA 4060   \n",
       "1025713  Salguero, Jeronimo & Mansilla, Lucio Norberto,...   \n",
       "136062   Salguero, Jeronimo & Mansilla, Lucio Norberto,...   \n",
       "\n",
       "         long_estacion_destino  lat_estacion_destino       id_usuario  \\\n",
       "1569107             -58.463297            -34.628836  703716BAEcobici   \n",
       "1678989             -58.463297            -34.628836  695884BAEcobici   \n",
       "1633091             -58.463114            -34.643900  671615BAEcobici   \n",
       "782258              -58.444580            -34.580938  939857BAEcobici   \n",
       "547929              -58.399016            -34.598404  721955BAEcobici   \n",
       "185695              -58.405888            -34.637123  167151BAEcobici   \n",
       "1545854             -58.368174            -34.611102  113138BAEcobici   \n",
       "42259               -58.419816            -34.591561  939368BAEcobici   \n",
       "1025713             -58.416118            -34.589427  667954BAEcobici   \n",
       "136062              -58.416118            -34.589427  669799BAEcobici   \n",
       "\n",
       "        modelo_bicicleta género  \n",
       "1569107              FIT   MALE  \n",
       "1678989              FIT   MALE  \n",
       "1633091              FIT   MALE  \n",
       "782258               FIT   MALE  \n",
       "547929            ICONIC   MALE  \n",
       "185695            ICONIC  OTHER  \n",
       "1545854              FIT   MALE  \n",
       "42259             ICONIC   MALE  \n",
       "1025713              FIT  OTHER  \n",
       "136062            ICONIC  OTHER  "
      ]
     },
     "execution_count": 601,
     "metadata": {},
     "output_type": "execute_result"
    }
   ],
   "source": [
    "trips = pd.concat([trips23, trips24], ignore_index= True)\n",
    "trips = trips.sort_values(by='Id_recorrido', ascending=True)\n",
    "trips.head(10)"
   ]
  },
  {
   "cell_type": "markdown",
   "metadata": {},
   "source": [
    "<strong>Determinamos dejar en el id_usuario, id_recorrido, id_estacion_origen y id_estacion_destino solo los números<strong>"
   ]
  },
  {
   "cell_type": "code",
   "execution_count": 602,
   "metadata": {},
   "outputs": [
    {
     "data": {
      "text/html": [
       "<div>\n",
       "<style scoped>\n",
       "    .dataframe tbody tr th:only-of-type {\n",
       "        vertical-align: middle;\n",
       "    }\n",
       "\n",
       "    .dataframe tbody tr th {\n",
       "        vertical-align: top;\n",
       "    }\n",
       "\n",
       "    .dataframe thead th {\n",
       "        text-align: right;\n",
       "    }\n",
       "</style>\n",
       "<table border=\"1\" class=\"dataframe\">\n",
       "  <thead>\n",
       "    <tr style=\"text-align: right;\">\n",
       "      <th></th>\n",
       "      <th>Id_recorrido</th>\n",
       "      <th>duracion_recorrido</th>\n",
       "      <th>fecha_origen_recorrido</th>\n",
       "      <th>id_estacion_origen</th>\n",
       "      <th>nombre_estacion_origen</th>\n",
       "      <th>direccion_estacion_origen</th>\n",
       "      <th>long_estacion_origen</th>\n",
       "      <th>lat_estacion_origen</th>\n",
       "      <th>fecha_destino_recorrido</th>\n",
       "      <th>id_estacion_destino</th>\n",
       "      <th>nombre_estacion_destino</th>\n",
       "      <th>direccion_estacion_destino</th>\n",
       "      <th>long_estacion_destino</th>\n",
       "      <th>lat_estacion_destino</th>\n",
       "      <th>id_usuario</th>\n",
       "      <th>modelo_bicicleta</th>\n",
       "      <th>género</th>\n",
       "    </tr>\n",
       "  </thead>\n",
       "  <tbody>\n",
       "    <tr>\n",
       "      <th>1569107</th>\n",
       "      <td>16798820</td>\n",
       "      <td>392</td>\n",
       "      <td>2023-01-01 00:06:08</td>\n",
       "      <td>449</td>\n",
       "      <td>352 - San Jose de Flores</td>\n",
       "      <td>Av. Rivadavia 6955</td>\n",
       "      <td>-58.463297</td>\n",
       "      <td>-34.628836</td>\n",
       "      <td>2023-01-01 00:12:40</td>\n",
       "      <td>449</td>\n",
       "      <td>352 - San Jose de Flores</td>\n",
       "      <td>Av. Rivadavia 6955</td>\n",
       "      <td>-58.463297</td>\n",
       "      <td>-34.628836</td>\n",
       "      <td>703716</td>\n",
       "      <td>FIT</td>\n",
       "      <td>MALE</td>\n",
       "    </tr>\n",
       "    <tr>\n",
       "      <th>1678989</th>\n",
       "      <td>16798822</td>\n",
       "      <td>250</td>\n",
       "      <td>2023-01-01 00:08:12</td>\n",
       "      <td>449</td>\n",
       "      <td>352 - San Jose de Flores</td>\n",
       "      <td>Av. Rivadavia 6955</td>\n",
       "      <td>-58.463297</td>\n",
       "      <td>-34.628836</td>\n",
       "      <td>2023-01-01 00:12:22</td>\n",
       "      <td>449</td>\n",
       "      <td>352 - San Jose de Flores</td>\n",
       "      <td>Av. Rivadavia 6955</td>\n",
       "      <td>-58.463297</td>\n",
       "      <td>-34.628836</td>\n",
       "      <td>695884</td>\n",
       "      <td>FIT</td>\n",
       "      <td>MALE</td>\n",
       "    </tr>\n",
       "    <tr>\n",
       "      <th>1633091</th>\n",
       "      <td>16798823</td>\n",
       "      <td>1,059</td>\n",
       "      <td>2023-01-01 00:10:52</td>\n",
       "      <td>363</td>\n",
       "      <td>354 - José Martí</td>\n",
       "      <td>Eva Perón 3321</td>\n",
       "      <td>-58.463114</td>\n",
       "      <td>-34.643900</td>\n",
       "      <td>2023-01-01 00:28:31</td>\n",
       "      <td>363</td>\n",
       "      <td>354 - José Martí</td>\n",
       "      <td>Eva Perón 3321</td>\n",
       "      <td>-58.463114</td>\n",
       "      <td>-34.643900</td>\n",
       "      <td>671615</td>\n",
       "      <td>FIT</td>\n",
       "      <td>MALE</td>\n",
       "    </tr>\n",
       "    <tr>\n",
       "      <th>782258</th>\n",
       "      <td>16798824</td>\n",
       "      <td>1,834</td>\n",
       "      <td>2023-01-01 00:11:14</td>\n",
       "      <td>461</td>\n",
       "      <td>106 - MOSCONI Y CONSTITUYENTES</td>\n",
       "      <td>CONSTITUYENTES 4710</td>\n",
       "      <td>-58.493630</td>\n",
       "      <td>-34.580880</td>\n",
       "      <td>2023-01-01 00:41:48</td>\n",
       "      <td>418</td>\n",
       "      <td>345 - Plaza Mafalda</td>\n",
       "      <td>Conde &amp; Concepción Arenal</td>\n",
       "      <td>-58.444580</td>\n",
       "      <td>-34.580938</td>\n",
       "      <td>939857</td>\n",
       "      <td>FIT</td>\n",
       "      <td>MALE</td>\n",
       "    </tr>\n",
       "    <tr>\n",
       "      <th>547929</th>\n",
       "      <td>16798825</td>\n",
       "      <td>766</td>\n",
       "      <td>2023-01-01 00:11:24</td>\n",
       "      <td>124</td>\n",
       "      <td>124 - UGARTECHE</td>\n",
       "      <td>3050 Ugarteche</td>\n",
       "      <td>-58.411965</td>\n",
       "      <td>-34.580538</td>\n",
       "      <td>2023-01-01 00:24:10</td>\n",
       "      <td>131</td>\n",
       "      <td>131- HOSPITAL DE CLÍNICAS</td>\n",
       "      <td>Uriburu Jose E., Pres. &amp; Paraguay</td>\n",
       "      <td>-58.399016</td>\n",
       "      <td>-34.598404</td>\n",
       "      <td>721955</td>\n",
       "      <td>ICONIC</td>\n",
       "      <td>MALE</td>\n",
       "    </tr>\n",
       "  </tbody>\n",
       "</table>\n",
       "</div>"
      ],
      "text/plain": [
       "        Id_recorrido duracion_recorrido fecha_origen_recorrido  \\\n",
       "1569107     16798820                392    2023-01-01 00:06:08   \n",
       "1678989     16798822                250    2023-01-01 00:08:12   \n",
       "1633091     16798823              1,059    2023-01-01 00:10:52   \n",
       "782258      16798824              1,834    2023-01-01 00:11:14   \n",
       "547929      16798825                766    2023-01-01 00:11:24   \n",
       "\n",
       "        id_estacion_origen          nombre_estacion_origen  \\\n",
       "1569107                449        352 - San Jose de Flores   \n",
       "1678989                449        352 - San Jose de Flores   \n",
       "1633091                363                354 - José Martí   \n",
       "782258                 461  106 - MOSCONI Y CONSTITUYENTES   \n",
       "547929                 124                 124 - UGARTECHE   \n",
       "\n",
       "        direccion_estacion_origen  long_estacion_origen  lat_estacion_origen  \\\n",
       "1569107        Av. Rivadavia 6955            -58.463297           -34.628836   \n",
       "1678989        Av. Rivadavia 6955            -58.463297           -34.628836   \n",
       "1633091            Eva Perón 3321            -58.463114           -34.643900   \n",
       "782258        CONSTITUYENTES 4710            -58.493630           -34.580880   \n",
       "547929             3050 Ugarteche            -58.411965           -34.580538   \n",
       "\n",
       "        fecha_destino_recorrido id_estacion_destino  \\\n",
       "1569107     2023-01-01 00:12:40                 449   \n",
       "1678989     2023-01-01 00:12:22                 449   \n",
       "1633091     2023-01-01 00:28:31                 363   \n",
       "782258      2023-01-01 00:41:48                 418   \n",
       "547929      2023-01-01 00:24:10                 131   \n",
       "\n",
       "           nombre_estacion_destino         direccion_estacion_destino  \\\n",
       "1569107   352 - San Jose de Flores                 Av. Rivadavia 6955   \n",
       "1678989   352 - San Jose de Flores                 Av. Rivadavia 6955   \n",
       "1633091           354 - José Martí                     Eva Perón 3321   \n",
       "782258         345 - Plaza Mafalda          Conde & Concepción Arenal   \n",
       "547929   131- HOSPITAL DE CLÍNICAS  Uriburu Jose E., Pres. & Paraguay   \n",
       "\n",
       "         long_estacion_destino  lat_estacion_destino id_usuario  \\\n",
       "1569107             -58.463297            -34.628836     703716   \n",
       "1678989             -58.463297            -34.628836     695884   \n",
       "1633091             -58.463114            -34.643900     671615   \n",
       "782258              -58.444580            -34.580938     939857   \n",
       "547929              -58.399016            -34.598404     721955   \n",
       "\n",
       "        modelo_bicicleta género  \n",
       "1569107              FIT   MALE  \n",
       "1678989              FIT   MALE  \n",
       "1633091              FIT   MALE  \n",
       "782258               FIT   MALE  \n",
       "547929            ICONIC   MALE  "
      ]
     },
     "execution_count": 602,
     "metadata": {},
     "output_type": "execute_result"
    }
   ],
   "source": [
    "trips['Id_recorrido'] = trips['Id_recorrido'].str.extract('(\\d+)')\n",
    "trips['id_estacion_origen'] = trips['id_estacion_origen'].str.extract('(\\d+)')\n",
    "trips['id_estacion_destino'] = trips['id_estacion_destino'].str.extract('(\\d+)')\n",
    "trips['id_usuario'] = trips['id_usuario'].str.extract('(\\d+)')\n",
    "#Revisamos los cambios\n",
    "trips.head()"
   ]
  },
  {
   "cell_type": "markdown",
   "metadata": {},
   "source": [
    "<strong>Verificamos si tenemos duplicados condicionandolo por id_recorrido<strong>"
   ]
  },
  {
   "cell_type": "code",
   "execution_count": 603,
   "metadata": {},
   "outputs": [
    {
     "name": "stdout",
     "output_type": "stream",
     "text": [
      "No se encontraron registros duplicados en trips.\n"
     ]
    }
   ],
   "source": [
    "duplicados_trips = trips[trips.duplicated(subset='Id_recorrido', keep=False)]\n",
    "if not duplicados_trips.empty:\n",
    "    print(f\"Se encontró {duplicados_trips.shape[0]} registros duplicados\")\n",
    "else:\n",
    "    print(\"No se encontraron registros duplicados en trips.\")"
   ]
  },
  {
   "cell_type": "code",
   "execution_count": 604,
   "metadata": {},
   "outputs": [
    {
     "data": {
      "text/plain": [
       "Id_recorrido                   object\n",
       "duracion_recorrido             object\n",
       "fecha_origen_recorrido         object\n",
       "id_estacion_origen             object\n",
       "nombre_estacion_origen         object\n",
       "direccion_estacion_origen      object\n",
       "long_estacion_origen          float64\n",
       "lat_estacion_origen           float64\n",
       "fecha_destino_recorrido        object\n",
       "id_estacion_destino            object\n",
       "nombre_estacion_destino        object\n",
       "direccion_estacion_destino     object\n",
       "long_estacion_destino         float64\n",
       "lat_estacion_destino          float64\n",
       "id_usuario                     object\n",
       "modelo_bicicleta               object\n",
       "género                         object\n",
       "dtype: object"
      ]
     },
     "execution_count": 604,
     "metadata": {},
     "output_type": "execute_result"
    }
   ],
   "source": [
    "trips.dtypes"
   ]
  },
  {
   "cell_type": "markdown",
   "metadata": {},
   "source": [
    "<strong>Lo dejamos a las columnas que son referencia a un id en tipo int<strong>"
   ]
  },
  {
   "cell_type": "code",
   "execution_count": 607,
   "metadata": {},
   "outputs": [],
   "source": [
    "trips['Id_recorrido'] = trips['Id_recorrido'].astype(int)\n",
    "trips['id_estacion_origen'] = trips['id_estacion_origen'].astype(int)\n",
    "trips['id_estacion_destino'] = trips['id_estacion_destino'].fillna(0).astype(int)\n",
    "trips['id_usuario'] = trips['id_usuario'].astype(int)"
   ]
  },
  {
   "cell_type": "markdown",
   "metadata": {},
   "source": [
    "<strong>Lo migramos a la base staging <strong>"
   ]
  },
  {
   "cell_type": "code",
   "execution_count": 609,
   "metadata": {},
   "outputs": [],
   "source": [
    "conexion = sql3.connect('DataIQ_STG.db', timeout=10)\n",
    "\n",
    "try:\n",
    "    trips.to_sql('trips', conexion, if_exists='replace', index=False)\n",
    "    conexion.commit()\n",
    "\n",
    "except sql3.DatabaseError as e:\n",
    "    print(f\"Error en la base de datos: {e}\")\n",
    "\n",
    "finally:\n",
    "    conexion.close()"
   ]
  },
  {
   "cell_type": "markdown",
   "metadata": {},
   "source": [
    "<strong>Analizamos nuevas-estaciones-bicicletas-publicas y retornamos cuantos registros tiene</strong>"
   ]
  },
  {
   "cell_type": "code",
   "execution_count": 610,
   "metadata": {},
   "outputs": [
    {
     "name": "stdout",
     "output_type": "stream",
     "text": [
      "El archivo tiene 360 registros\n"
     ]
    }
   ],
   "source": [
    "newStation = pd.read_csv(\"nuevas-estaciones-bicicletas-publicas.csv\")\n",
    "print(f\"El archivo tiene {newStation.shape[0]} registros\")"
   ]
  },
  {
   "cell_type": "code",
   "execution_count": 617,
   "metadata": {},
   "outputs": [
    {
     "data": {
      "text/html": [
       "<div>\n",
       "<style scoped>\n",
       "    .dataframe tbody tr th:only-of-type {\n",
       "        vertical-align: middle;\n",
       "    }\n",
       "\n",
       "    .dataframe tbody tr th {\n",
       "        vertical-align: top;\n",
       "    }\n",
       "\n",
       "    .dataframe thead th {\n",
       "        text-align: right;\n",
       "    }\n",
       "</style>\n",
       "<table border=\"1\" class=\"dataframe\">\n",
       "  <thead>\n",
       "    <tr style=\"text-align: right;\">\n",
       "      <th></th>\n",
       "      <th>NÚMERO DE ESTACIÓN</th>\n",
       "      <th>NOMBRE</th>\n",
       "      <th>DIRECCIÓN</th>\n",
       "      <th>BARRIO</th>\n",
       "      <th>COMUNA</th>\n",
       "      <th>EMPLAZAMIENTO</th>\n",
       "      <th>LATITUD</th>\n",
       "      <th>LONGITUD</th>\n",
       "    </tr>\n",
       "  </thead>\n",
       "  <tbody>\n",
       "    <tr>\n",
       "      <th>136</th>\n",
       "      <td>1</td>\n",
       "      <td>FACULTAD DE DERECHO</td>\n",
       "      <td>Av. Pres. Figueroa Alcorta 2120</td>\n",
       "      <td>RECOLETA</td>\n",
       "      <td>COMUNA 2</td>\n",
       "      <td>VEREDA</td>\n",
       "      <td>-345.841</td>\n",
       "      <td>-583.908</td>\n",
       "    </tr>\n",
       "    <tr>\n",
       "      <th>0</th>\n",
       "      <td>2</td>\n",
       "      <td>RETIRO I</td>\n",
       "      <td>Av. Dr. José María Ramos Mejía 1300</td>\n",
       "      <td>RETIRO</td>\n",
       "      <td>COMUNA 1</td>\n",
       "      <td>PLAZA</td>\n",
       "      <td>-34.592.424.135.701.100</td>\n",
       "      <td>-5.837.470.989.599.140</td>\n",
       "    </tr>\n",
       "    <tr>\n",
       "      <th>1</th>\n",
       "      <td>3</td>\n",
       "      <td>ADUANA</td>\n",
       "      <td>Moreno 4</td>\n",
       "      <td>MONSERRAT</td>\n",
       "      <td>COMUNA 1</td>\n",
       "      <td>VEREDA</td>\n",
       "      <td>-346.111</td>\n",
       "      <td>-583.682</td>\n",
       "    </tr>\n",
       "    <tr>\n",
       "      <th>2</th>\n",
       "      <td>4</td>\n",
       "      <td>PLAZA ROMA</td>\n",
       "      <td>Av. Corrientes 100</td>\n",
       "      <td>SAN NICOLAS</td>\n",
       "      <td>COMUNA 1</td>\n",
       "      <td>VEREDA</td>\n",
       "      <td>-3.460.299.498.843.600</td>\n",
       "      <td>58.368.832.321.694.600</td>\n",
       "    </tr>\n",
       "    <tr>\n",
       "      <th>3</th>\n",
       "      <td>5</td>\n",
       "      <td>PLAZA ITALIA</td>\n",
       "      <td>Av. Sarmiento 2601</td>\n",
       "      <td>PALERMO</td>\n",
       "      <td>COMUNA 14</td>\n",
       "      <td>VEREDA</td>\n",
       "      <td>-345.807</td>\n",
       "      <td>-584.204</td>\n",
       "    </tr>\n",
       "  </tbody>\n",
       "</table>\n",
       "</div>"
      ],
      "text/plain": [
       "     NÚMERO DE ESTACIÓN               NOMBRE  \\\n",
       "136                   1  FACULTAD DE DERECHO   \n",
       "0                     2             RETIRO I   \n",
       "1                     3               ADUANA   \n",
       "2                     4           PLAZA ROMA   \n",
       "3                     5         PLAZA ITALIA   \n",
       "\n",
       "                               DIRECCIÓN       BARRIO     COMUNA  \\\n",
       "136      Av. Pres. Figueroa Alcorta 2120     RECOLETA   COMUNA 2   \n",
       "0    Av. Dr. José María Ramos Mejía 1300       RETIRO   COMUNA 1   \n",
       "1                               Moreno 4    MONSERRAT   COMUNA 1   \n",
       "2                     Av. Corrientes 100  SAN NICOLAS   COMUNA 1   \n",
       "3                     Av. Sarmiento 2601      PALERMO  COMUNA 14   \n",
       "\n",
       "    EMPLAZAMIENTO                  LATITUD                LONGITUD  \n",
       "136        VEREDA                 -345.841                -583.908  \n",
       "0           PLAZA  -34.592.424.135.701.100  -5.837.470.989.599.140  \n",
       "1          VEREDA                 -346.111                -583.682  \n",
       "2          VEREDA   -3.460.299.498.843.600  58.368.832.321.694.600  \n",
       "3          VEREDA                 -345.807                -584.204  "
      ]
     },
     "execution_count": 617,
     "metadata": {},
     "output_type": "execute_result"
    }
   ],
   "source": [
    "newStation.head()"
   ]
  },
  {
   "cell_type": "code",
   "execution_count": 611,
   "metadata": {},
   "outputs": [
    {
     "data": {
      "text/plain": [
       "ID Comet               int64\n",
       "NÚMERO de Estación     int64\n",
       "NOMBRE                object\n",
       "DIRECCIÓN             object\n",
       "BARRIO                object\n",
       "COMUNA                object\n",
       "EMPLAZAMIENTO         object\n",
       "LATITUD               object\n",
       "LONGITUD              object\n",
       "dtype: object"
      ]
     },
     "execution_count": 611,
     "metadata": {},
     "output_type": "execute_result"
    }
   ],
   "source": [
    "newStation.dtypes"
   ]
  },
  {
   "cell_type": "markdown",
   "metadata": {},
   "source": [
    "<strong>Definimos si en los registros tiene datos NaN </strong>"
   ]
  },
  {
   "cell_type": "code",
   "execution_count": 612,
   "metadata": {},
   "outputs": [
    {
     "name": "stdout",
     "output_type": "stream",
     "text": [
      "Empty DataFrame\n",
      "Columns: [ID Comet, NÚMERO de Estación, NOMBRE, DIRECCIÓN, BARRIO, COMUNA, EMPLAZAMIENTO, LATITUD, LONGITUD]\n",
      "Index: []\n"
     ]
    }
   ],
   "source": [
    "#Llamamos a la funcion registros_nulos anteriormente definida\n",
    "df_registros = registros_nulos(newStation)\n",
    "print(df_registros)"
   ]
  },
  {
   "cell_type": "code",
   "execution_count": 613,
   "metadata": {},
   "outputs": [
    {
     "data": {
      "text/plain": [
       "array([  2,   3,   4,   5,   6,   7,   8,   9,  12,  13,  14,  17,  21,\n",
       "        22,  23,  24,  25,  26,  27,  29,  30,  32,  33,  35,  36,  38,\n",
       "        41,  43,  44,  45,  46,  48,  49,  50,  51,  54,  56,  57,  58,\n",
       "        59,  60,  61,  63,  64,  65,  66,  68,  69,  70,  71,  73,  74,\n",
       "        75,  76,  77,  79,  80,  82,  83,  85,  86,  87,  89,  91,  92,\n",
       "        93,  94,  95,  96,  98,  99, 101, 102, 104, 107, 111, 112, 114,\n",
       "       116, 117, 118, 120, 121, 122, 124, 126, 128, 130, 131, 132, 134,\n",
       "       135, 137, 138, 144, 146, 149, 150, 151, 152, 153, 155, 156, 158,\n",
       "       161, 162, 163, 164, 165, 166, 167, 168, 169, 171, 172, 174, 175,\n",
       "       176, 177, 179, 181, 182, 183, 184, 186, 187, 188, 189, 190, 191,\n",
       "       193, 194, 196, 197, 199, 200, 202, 203, 204, 205, 206, 207, 208,\n",
       "       210, 212, 213, 215, 216, 219, 220, 222, 223, 227, 228, 229, 230,\n",
       "       231, 232, 234, 235, 236, 237, 239, 241, 242, 245, 247, 248, 251,\n",
       "       252, 253, 254, 255, 257, 258, 259, 260, 261, 262, 263, 264, 265,\n",
       "       267, 268, 269, 270, 271, 273, 275, 277, 278, 280, 281, 284, 289,\n",
       "       291, 299, 301, 302, 304, 307, 308, 309, 310, 311, 316, 318, 322,\n",
       "       323, 324, 327, 329, 330, 333, 335, 336, 340, 342, 348, 349, 353,\n",
       "       355, 358, 359, 361, 362, 363, 364, 366, 367, 368, 369, 370, 371,\n",
       "       372, 373, 374, 375, 376, 378, 379, 381, 382, 383, 384, 385, 386,\n",
       "       387, 392, 393, 395, 400, 403, 407, 408, 412, 413, 414, 416, 417,\n",
       "       418, 420, 422, 423, 424, 425, 426, 427, 428, 429, 431, 432, 433,\n",
       "       434, 435, 436, 440, 441, 444, 448, 449, 453, 454, 455, 457, 458,\n",
       "       459, 460, 461, 464, 465, 466, 467, 468, 469, 471, 472, 473, 474,\n",
       "       475, 476, 477, 478, 479, 480, 481, 482, 483, 484, 485, 486, 487,\n",
       "       488, 489, 490, 491, 492, 493, 494, 496, 497, 498, 499, 500, 501,\n",
       "       502, 503, 504, 505, 506, 507, 508, 509, 511, 512, 513, 515, 516,\n",
       "       517, 518, 519, 520, 521, 522, 523, 524, 525, 526, 527, 528,  19,\n",
       "       529, 530, 148, 531, 532, 533, 534, 535, 538], dtype=int64)"
      ]
     },
     "execution_count": 613,
     "metadata": {},
     "output_type": "execute_result"
    }
   ],
   "source": [
    "newStation['ID Comet'].unique()"
   ]
  },
  {
   "cell_type": "code",
   "execution_count": 614,
   "metadata": {},
   "outputs": [
    {
     "data": {
      "text/plain": [
       "array([  2,   3,   4,   5,   6,   7,   8,   9,  12,  13,  14,  17,  21,\n",
       "        22,  23,  24,  25,  26,  27,  29,  30,  32,  33,  35,  36,  38,\n",
       "        41, 334,  44,  45,  46,  34,  49,  50,  51,  54,  56,  57,  58,\n",
       "        18,  60,  98,  63,  64,  65,  66, 105,  69,  70,  71,  73,  74,\n",
       "        75,  76, 109,  79,  80,  82,  83,  85,  86,  87,  89,  91,  92,\n",
       "        93,  94,  95,  96,  37,  99, 101, 102, 104, 107, 111, 112, 114,\n",
       "       116, 117, 118, 120, 121, 122, 124, 126, 128, 130, 131, 132, 134,\n",
       "       135, 137, 138, 144, 146, 149, 150, 151, 152, 153, 155, 156, 158,\n",
       "       161, 162, 163, 164, 165, 166, 275, 168, 169, 171, 172, 174, 147,\n",
       "        67, 177, 179, 181, 182, 183, 184, 186, 261, 373, 189, 190, 191,\n",
       "       193, 194, 196, 197, 199, 200,   1, 108, 167, 125, 159, 123, 145,\n",
       "       335, 129, 136, 113,  59, 140,  97, 160, 178, 188,  10, 243, 259,\n",
       "       384, 252, 344, 281, 254, 302, 391, 348, 103, 248, 282, 346, 388,\n",
       "       331, 383, 276, 374, 264, 336, 290, 371, 272, 349, 270, 283, 361,\n",
       "       315, 399, 260, 370, 365, 223, 256, 292, 233, 222, 350, 229, 255,\n",
       "       244, 221, 309, 340, 395, 341, 251, 298, 356, 213, 205, 285, 289,\n",
       "       240, 280, 366, 100, 148, 203, 206, 207, 359, 218, 231, 232, 237,\n",
       "       242, 249, 250, 258, 262, 354, 381, 360, 287, 378, 304, 305, 269,\n",
       "       322, 265, 367, 301, 324, 215, 390, 274, 204, 263, 267, 268, 277,\n",
       "       278, 297, 300, 303, 313, 316, 330, 364, 372, 382, 385, 257, 127,\n",
       "       345, 375, 379,  43, 387, 394, 396, 397, 225, 201, 362, 187, 273,\n",
       "       247, 227, 253, 142,  16,  61, 393, 352,  28, 176,  39, 110, 219,\n",
       "       327, 133, 106, 377, 192, 333, 328,  84,  62, 173, 310, 216, 224,\n",
       "       238, 279, 311,  15, 347, 353, 369, 376, 175, 295, 230, 220, 239,\n",
       "       234, 288, 245, 266, 325, 208, 314,  52, 307,  55, 286, 235,  20,\n",
       "       296, 212, 214, 337,  40, 271, 170, 386, 284, 195, 308, 294, 368,\n",
       "       332, 329,  53, 180, 226, 119, 389, 338, 317,  88,  68,  42,  19,\n",
       "        11,  31, 323,  48,  72,  77,  81,  90,  47], dtype=int64)"
      ]
     },
     "execution_count": 614,
     "metadata": {},
     "output_type": "execute_result"
    }
   ],
   "source": [
    "newStation['NÚMERO de Estación'].unique()"
   ]
  },
  {
   "cell_type": "markdown",
   "metadata": {},
   "source": [
    "<strong>Eliminamos la columna'ID Comet' y modificamos un detalle en la columna estación<strong>"
   ]
  },
  {
   "cell_type": "code",
   "execution_count": 615,
   "metadata": {},
   "outputs": [
    {
     "data": {
      "text/html": [
       "<div>\n",
       "<style scoped>\n",
       "    .dataframe tbody tr th:only-of-type {\n",
       "        vertical-align: middle;\n",
       "    }\n",
       "\n",
       "    .dataframe tbody tr th {\n",
       "        vertical-align: top;\n",
       "    }\n",
       "\n",
       "    .dataframe thead th {\n",
       "        text-align: right;\n",
       "    }\n",
       "</style>\n",
       "<table border=\"1\" class=\"dataframe\">\n",
       "  <thead>\n",
       "    <tr style=\"text-align: right;\">\n",
       "      <th></th>\n",
       "      <th>NÚMERO DE ESTACIÓN</th>\n",
       "      <th>NOMBRE</th>\n",
       "      <th>DIRECCIÓN</th>\n",
       "      <th>BARRIO</th>\n",
       "      <th>COMUNA</th>\n",
       "      <th>EMPLAZAMIENTO</th>\n",
       "      <th>LATITUD</th>\n",
       "      <th>LONGITUD</th>\n",
       "    </tr>\n",
       "  </thead>\n",
       "  <tbody>\n",
       "    <tr>\n",
       "      <th>136</th>\n",
       "      <td>1</td>\n",
       "      <td>FACULTAD DE DERECHO</td>\n",
       "      <td>Av. Pres. Figueroa Alcorta 2120</td>\n",
       "      <td>RECOLETA</td>\n",
       "      <td>COMUNA 2</td>\n",
       "      <td>VEREDA</td>\n",
       "      <td>-345.841</td>\n",
       "      <td>-583.908</td>\n",
       "    </tr>\n",
       "    <tr>\n",
       "      <th>0</th>\n",
       "      <td>2</td>\n",
       "      <td>RETIRO I</td>\n",
       "      <td>Av. Dr. José María Ramos Mejía 1300</td>\n",
       "      <td>RETIRO</td>\n",
       "      <td>COMUNA 1</td>\n",
       "      <td>PLAZA</td>\n",
       "      <td>-34.592.424.135.701.100</td>\n",
       "      <td>-5.837.470.989.599.140</td>\n",
       "    </tr>\n",
       "    <tr>\n",
       "      <th>1</th>\n",
       "      <td>3</td>\n",
       "      <td>ADUANA</td>\n",
       "      <td>Moreno 4</td>\n",
       "      <td>MONSERRAT</td>\n",
       "      <td>COMUNA 1</td>\n",
       "      <td>VEREDA</td>\n",
       "      <td>-346.111</td>\n",
       "      <td>-583.682</td>\n",
       "    </tr>\n",
       "    <tr>\n",
       "      <th>2</th>\n",
       "      <td>4</td>\n",
       "      <td>PLAZA ROMA</td>\n",
       "      <td>Av. Corrientes 100</td>\n",
       "      <td>SAN NICOLAS</td>\n",
       "      <td>COMUNA 1</td>\n",
       "      <td>VEREDA</td>\n",
       "      <td>-3.460.299.498.843.600</td>\n",
       "      <td>58.368.832.321.694.600</td>\n",
       "    </tr>\n",
       "    <tr>\n",
       "      <th>3</th>\n",
       "      <td>5</td>\n",
       "      <td>PLAZA ITALIA</td>\n",
       "      <td>Av. Sarmiento 2601</td>\n",
       "      <td>PALERMO</td>\n",
       "      <td>COMUNA 14</td>\n",
       "      <td>VEREDA</td>\n",
       "      <td>-345.807</td>\n",
       "      <td>-584.204</td>\n",
       "    </tr>\n",
       "  </tbody>\n",
       "</table>\n",
       "</div>"
      ],
      "text/plain": [
       "     NÚMERO DE ESTACIÓN               NOMBRE  \\\n",
       "136                   1  FACULTAD DE DERECHO   \n",
       "0                     2             RETIRO I   \n",
       "1                     3               ADUANA   \n",
       "2                     4           PLAZA ROMA   \n",
       "3                     5         PLAZA ITALIA   \n",
       "\n",
       "                               DIRECCIÓN       BARRIO     COMUNA  \\\n",
       "136      Av. Pres. Figueroa Alcorta 2120     RECOLETA   COMUNA 2   \n",
       "0    Av. Dr. José María Ramos Mejía 1300       RETIRO   COMUNA 1   \n",
       "1                               Moreno 4    MONSERRAT   COMUNA 1   \n",
       "2                     Av. Corrientes 100  SAN NICOLAS   COMUNA 1   \n",
       "3                     Av. Sarmiento 2601      PALERMO  COMUNA 14   \n",
       "\n",
       "    EMPLAZAMIENTO                  LATITUD                LONGITUD  \n",
       "136        VEREDA                 -345.841                -583.908  \n",
       "0           PLAZA  -34.592.424.135.701.100  -5.837.470.989.599.140  \n",
       "1          VEREDA                 -346.111                -583.682  \n",
       "2          VEREDA   -3.460.299.498.843.600  58.368.832.321.694.600  \n",
       "3          VEREDA                 -345.807                -584.204  "
      ]
     },
     "execution_count": 615,
     "metadata": {},
     "output_type": "execute_result"
    }
   ],
   "source": [
    "newStation = newStation.drop(columns=['ID Comet'])\n",
    "newStation = newStation.rename(columns={'NÚMERO de Estación': 'NÚMERO DE ESTACIÓN'})\n",
    "newStation = newStation.sort_values(by='NÚMERO DE ESTACIÓN', ascending=True)\n",
    "newStation.head()"
   ]
  },
  {
   "cell_type": "code",
   "execution_count": 616,
   "metadata": {},
   "outputs": [
    {
     "name": "stdout",
     "output_type": "stream",
     "text": [
      "No se encontraron registros duplicados en newStation.\n"
     ]
    }
   ],
   "source": [
    "duplicados_newStation = newStation[newStation.duplicated(subset='NÚMERO DE ESTACIÓN', keep=False)]\n",
    "if not duplicados_newStation.empty:\n",
    "    print(f\"Se encontró {duplicados_newStation.shape[0]} registros duplicados\")\n",
    "else:\n",
    "    print(\"No se encontraron registros duplicados en newStation.\")"
   ]
  },
  {
   "cell_type": "markdown",
   "metadata": {},
   "source": [
    "<strong>Lo migramos a la base staging<strong>"
   ]
  },
  {
   "cell_type": "code",
   "execution_count": 620,
   "metadata": {},
   "outputs": [],
   "source": [
    "conexion = sql3.connect('DataIQ_STG.db', timeout=10)\n",
    "\n",
    "try:\n",
    "    newStation.to_sql('nuevas_estaciones_bicicletas', conexion, if_exists='replace', index=False)\n",
    "    conexion.commit()\n",
    "\n",
    "except sql3.DatabaseError as e:\n",
    "    print(f\"Error en la base de datos: {e}\")\n",
    "\n",
    "finally:\n",
    "    conexion.close()"
   ]
  },
  {
   "cell_type": "markdown",
   "metadata": {},
   "source": [
    "<strong>Lo siguiente que se realizará es desde la base Data_STG poblaremos los datos a la base Data_DWH<strong>"
   ]
  }
 ],
 "metadata": {
  "kernelspec": {
   "display_name": "Python 3",
   "language": "python",
   "name": "python3"
  },
  "language_info": {
   "codemirror_mode": {
    "name": "ipython",
    "version": 3
   },
   "file_extension": ".py",
   "mimetype": "text/x-python",
   "name": "python",
   "nbconvert_exporter": "python",
   "pygments_lexer": "ipython3",
   "version": "3.8.1"
  }
 },
 "nbformat": 4,
 "nbformat_minor": 2
}
